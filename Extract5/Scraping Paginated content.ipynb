{
 "cells": [
  {
   "cell_type": "code",
   "execution_count": 78,
   "metadata": {},
   "outputs": [],
   "source": [
    "import requests\n",
    "from bs4 import BeautifulSoup\n",
    "from IPython.display import Image\n",
    "from IPython.display import display\n"
   ]
  },
  {
   "cell_type": "code",
   "execution_count": 97,
   "metadata": {},
   "outputs": [
    {
     "name": "stdout",
     "output_type": "stream",
     "text": [
      "1) Short Dress : $24.99\n",
      "2) Patterned Slacks : $29.99\n",
      "3) Short Chiffon Dress : $49.99\n",
      "4) Off-the-shoulder Dress : $59.99\n",
      "5) V-neck Top : $24.99\n",
      "6) Short Chiffon Dress : $49.99\n",
      "7) V-neck Top : $24.99\n",
      "8) V-neck Top : $24.99\n",
      "9) Short Lace Dress : $59.99\n",
      "10) Fitted Dress : $34.99\n",
      "11) V-neck Jumpsuit : $69.99\n",
      "12) Chiffon Dress : $54.99\n",
      "13) Skinny High Waist Jeans : $39.99\n",
      "14) Super Skinny High Jeans : $19.99\n",
      "15) Oversized Denim Jacket : $19.99\n",
      "16) Short Sweatshirt : $24.99\n",
      "17) Long-sleeved Jersey Top : $12.99\n",
      "18) Skinny High Waist Jeans : $39.99\n",
      "19) Short Sweatshirt : $24.99\n",
      "20) Long-sleeved Jersey Top : $12.99\n",
      "21) Long-sleeved Jersey Top : $12.99\n",
      "22) Jersey Dress : $19.99\n",
      "23) Short Sweatshirt : $24.99\n",
      "24) Crinkled Flounced Blouse : $24.99\n",
      "25) Bib Overall Dress : $29.99\n",
      "26) Loose-knit Sweater : $17.99\n",
      "27) Skinny Regular Jeans : $29.99\n",
      "28) Henley-style Top : $12.99\n",
      "29) Joggers : $17.99\n",
      "30) Skirt with Lacing : $34.99\n",
      "31) Top with Tie : $17.99\n",
      "32) Joggers : $34.99\n",
      "33) Chiffon Dress with Flounce : $49.99\n",
      "34) Skirt with Lacing : $34.99\n",
      "35) V-neck Top : $9.99\n",
      "36) Hooded Jacket : $29.99\n",
      "37) Hooded Top : $29.99\n",
      "38) Lyocell-blend Blouse : $34.99\n",
      "39) Bib Overall Dress : $29.99\n",
      "40) Wide-leg Pants : $34.99\n",
      "41) Ankle-length Slim-fit Pants : $24.99\n",
      "42) Short Sweatshirt : $9.99\n",
      "43) V-neck Blouse : $17.99\n",
      "44) Short Skirt : $24.99\n",
      "45) Mesh T-shirt : $17.99\n",
      "46) Blouse with Embroidery : $59.99\n",
      "47) Wide-cut Cotton Top : $34.99\n",
      "48) Pleated Skirt : $54.99\n",
      "49) Coat : $69.99\n",
      "50) Wide-leg Pants : $49.99\n",
      "51) Top : $29.99\n",
      "52) Knit Mohair-blend Sweater : $69.99\n",
      "53) Dress : $69.99\n",
      "54) T-shirt with Embroidery : $29.99\n",
      "55) Blouse with Ruffled Collar : $49.99\n",
      "56) Pants : $49.99\n",
      "57) Jersey Dress : $19.99\n",
      "58) T-shirt : $6.99\n",
      "59) T-shirt : $6.99\n",
      "60) Blazer : $49.99\n"
     ]
    }
   ],
   "source": [
    "html = requests.get('https://scrapingclub.com/exercise/list_basic/')\n",
    "soup = BeautifulSoup(html.content, 'lxml')\n",
    "products = soup.find_all('div', 'col-lg-4 col-md-6 mb-4')\n",
    "links = soup.find('ul', class_ = 'pagination').find_all('a', class_='page-link')\n",
    "urls =[]\n",
    "count = 1\n",
    "for i in range(len(products)):\n",
    "    item_name = products[i].h4.text.strip()\n",
    "    item_price = products[i].h5.text\n",
    "    print('{}) {} : {}'.format(count, item_name, item_price))\n",
    "    count +=1\n",
    "    \n",
    "for j in links:\n",
    "    if j.text.isnumeric():\n",
    "        page_num = int(j.text)\n",
    "    else:\n",
    "        page_num = None\n",
    "    if type(page_num) == int:\n",
    "        urls.append('https://scrapingclub.com/exercise/list_basic/'+j.get('href'))\n",
    "for k in urls:\n",
    "    response = requests.get(k)\n",
    "    so = BeautifulSoup(response.content, 'lxml')\n",
    "    data = so.find_all('div', 'col-lg-4 col-md-6 mb-4')\n",
    "   \n",
    "    for m in range(len(data)):\n",
    "        item_name = data[m].h4.text.strip()\n",
    "        item_price = data[m].h5.text\n",
    "       \n",
    "        print('{}) {} : {}'.format(count, item_name, item_price))\n",
    "        count +=1\n",
    "        \n",
    "\n"
   ]
  },
  {
   "cell_type": "code",
   "execution_count": 144,
   "metadata": {},
   "outputs": [],
   "source": [
    "images = soup.select('div.col-lg-4.col-md-6.mb-4 a > img') #using css selector\n",
    "links = []\n",
    "\n",
    "\n"
   ]
  },
  {
   "cell_type": "code",
   "execution_count": 145,
   "metadata": {},
   "outputs": [],
   "source": [
    "for i in range(len(images)):\n",
    "    links.append('https://scrapingclub.com/'+images[i].get('src'))\n",
    "\n",
    "    "
   ]
  },
  {
   "cell_type": "code",
   "execution_count": 152,
   "metadata": {},
   "outputs": [
    {
     "data": {
      "text/plain": [
       "['https://scrapingclub.com//static/img/90008-E.jpg',\n",
       " 'https://scrapingclub.com//static/img/96436-A.jpg',\n",
       " 'https://scrapingclub.com//static/img/93926-B.jpg',\n",
       " 'https://scrapingclub.com//static/img/90882-B.jpg',\n",
       " 'https://scrapingclub.com//static/img/93756-C.jpg',\n",
       " 'https://scrapingclub.com//static/img/93926-C.jpg',\n",
       " 'https://scrapingclub.com//static/img/93756-B.jpg',\n",
       " 'https://scrapingclub.com//static/img/93756-D.jpg',\n",
       " 'https://scrapingclub.com//static/img/96643-A.jpg']"
      ]
     },
     "execution_count": 152,
     "metadata": {},
     "output_type": "execute_result"
    }
   ],
   "source": [
    "links"
   ]
  },
  {
   "cell_type": "code",
   "execution_count": 153,
   "metadata": {},
   "outputs": [],
   "source": [
    "img_urls = []\n",
    "img_links = soup.select('ul.pagination a')\n",
    "for j in img_links:\n",
    "    if j.text.isnumeric():\n",
    "        page_num = int(j.text)\n",
    "    else:\n",
    "        page_num = None\n",
    "    if type(page_num) == int:\n",
    "        img_urls.append('https://scrapingclub.com/exercise/list_basic/'+j.get('href'))"
   ]
  },
  {
   "cell_type": "code",
   "execution_count": 154,
   "metadata": {},
   "outputs": [
    {
     "data": {
      "text/plain": [
       "['https://scrapingclub.com/exercise/list_basic/?page=2',\n",
       " 'https://scrapingclub.com/exercise/list_basic/?page=3',\n",
       " 'https://scrapingclub.com/exercise/list_basic/?page=4',\n",
       " 'https://scrapingclub.com/exercise/list_basic/?page=5',\n",
       " 'https://scrapingclub.com/exercise/list_basic/?page=6',\n",
       " 'https://scrapingclub.com/exercise/list_basic/?page=7']"
      ]
     },
     "execution_count": 154,
     "metadata": {},
     "output_type": "execute_result"
    }
   ],
   "source": [
    "img_urls"
   ]
  },
  {
   "cell_type": "code",
   "execution_count": 155,
   "metadata": {},
   "outputs": [],
   "source": [
    "\n",
    "for k in img_urls:\n",
    "    response = requests.get(k)\n",
    "    soup_object = BeautifulSoup(response.content, 'lxml')\n",
    "    images_object = soup_object.select('div.col-lg-4.col-md-6.mb-4 a > img')\n",
    "    for i in range(len(images_object)):\n",
    "        links.append('https://scrapingclub.com/'+images_object[i].get('src'))\n",
    "        #imgs.append('https://scrapingclub.com'+images_object[i].get('src'))"
   ]
  },
  {
   "cell_type": "code",
   "execution_count": 157,
   "metadata": {},
   "outputs": [
    {
     "data": {
      "text/plain": [
       "60"
      ]
     },
     "execution_count": 157,
     "metadata": {},
     "output_type": "execute_result"
    }
   ],
   "source": [
    "len(links)"
   ]
  },
  {
   "cell_type": "code",
   "execution_count": 159,
   "metadata": {},
   "outputs": [
    {
     "data": {
      "text/plain": [
       "'https://scrapingclub.com//static/img/93086-B.jpg'"
      ]
     },
     "execution_count": 159,
     "metadata": {},
     "output_type": "execute_result"
    }
   ],
   "source": [
    "links[-1]"
   ]
  },
  {
   "cell_type": "code",
   "execution_count": 163,
   "metadata": {},
   "outputs": [
    {
     "data": {
      "text/html": [
       "<img src=\"https://scrapingclub.com//static/img/90008-E.jpg\" width=\"200\" height=\"200\"/>"
      ],
      "text/plain": [
       "<IPython.core.display.Image object>"
      ]
     },
     "metadata": {},
     "output_type": "display_data"
    },
    {
     "data": {
      "text/html": [
       "<img src=\"https://scrapingclub.com//static/img/96436-A.jpg\" width=\"200\" height=\"200\"/>"
      ],
      "text/plain": [
       "<IPython.core.display.Image object>"
      ]
     },
     "metadata": {},
     "output_type": "display_data"
    },
    {
     "data": {
      "text/html": [
       "<img src=\"https://scrapingclub.com//static/img/93926-B.jpg\" width=\"200\" height=\"200\"/>"
      ],
      "text/plain": [
       "<IPython.core.display.Image object>"
      ]
     },
     "metadata": {},
     "output_type": "display_data"
    },
    {
     "data": {
      "text/html": [
       "<img src=\"https://scrapingclub.com//static/img/90882-B.jpg\" width=\"200\" height=\"200\"/>"
      ],
      "text/plain": [
       "<IPython.core.display.Image object>"
      ]
     },
     "metadata": {},
     "output_type": "display_data"
    },
    {
     "data": {
      "text/html": [
       "<img src=\"https://scrapingclub.com//static/img/93756-C.jpg\" width=\"200\" height=\"200\"/>"
      ],
      "text/plain": [
       "<IPython.core.display.Image object>"
      ]
     },
     "metadata": {},
     "output_type": "display_data"
    },
    {
     "data": {
      "text/html": [
       "<img src=\"https://scrapingclub.com//static/img/93926-C.jpg\" width=\"200\" height=\"200\"/>"
      ],
      "text/plain": [
       "<IPython.core.display.Image object>"
      ]
     },
     "metadata": {},
     "output_type": "display_data"
    },
    {
     "data": {
      "text/html": [
       "<img src=\"https://scrapingclub.com//static/img/93756-B.jpg\" width=\"200\" height=\"200\"/>"
      ],
      "text/plain": [
       "<IPython.core.display.Image object>"
      ]
     },
     "metadata": {},
     "output_type": "display_data"
    },
    {
     "data": {
      "text/html": [
       "<img src=\"https://scrapingclub.com//static/img/93756-D.jpg\" width=\"200\" height=\"200\"/>"
      ],
      "text/plain": [
       "<IPython.core.display.Image object>"
      ]
     },
     "metadata": {},
     "output_type": "display_data"
    },
    {
     "data": {
      "text/html": [
       "<img src=\"https://scrapingclub.com//static/img/96643-A.jpg\" width=\"200\" height=\"200\"/>"
      ],
      "text/plain": [
       "<IPython.core.display.Image object>"
      ]
     },
     "metadata": {},
     "output_type": "display_data"
    },
    {
     "data": {
      "text/html": [
       "<img src=\"https://scrapingclub.com//static/img/94766-A.jpg\" width=\"200\" height=\"200\"/>"
      ],
      "text/plain": [
       "<IPython.core.display.Image object>"
      ]
     },
     "metadata": {},
     "output_type": "display_data"
    },
    {
     "data": {
      "text/html": [
       "<img src=\"https://scrapingclub.com//static/img/91696-C.jpg\" width=\"200\" height=\"200\"/>"
      ],
      "text/plain": [
       "<IPython.core.display.Image object>"
      ]
     },
     "metadata": {},
     "output_type": "display_data"
    },
    {
     "data": {
      "text/html": [
       "<img src=\"https://scrapingclub.com//static/img/93745-A.jpg\" width=\"200\" height=\"200\"/>"
      ],
      "text/plain": [
       "<IPython.core.display.Image object>"
      ]
     },
     "metadata": {},
     "output_type": "display_data"
    },
    {
     "data": {
      "text/html": [
       "<img src=\"https://scrapingclub.com//static/img/65763-E.jpg\" width=\"200\" height=\"200\"/>"
      ],
      "text/plain": [
       "<IPython.core.display.Image object>"
      ]
     },
     "metadata": {},
     "output_type": "display_data"
    },
    {
     "data": {
      "text/html": [
       "<img src=\"https://scrapingclub.com//static/img/70745-D.jpg\" width=\"200\" height=\"200\"/>"
      ],
      "text/plain": [
       "<IPython.core.display.Image object>"
      ]
     },
     "metadata": {},
     "output_type": "display_data"
    },
    {
     "data": {
      "text/html": [
       "<img src=\"https://scrapingclub.com//static/img/94706-A.jpg\" width=\"200\" height=\"200\"/>"
      ],
      "text/plain": [
       "<IPython.core.display.Image object>"
      ]
     },
     "metadata": {},
     "output_type": "display_data"
    },
    {
     "data": {
      "text/html": [
       "<img src=\"https://scrapingclub.com//static/img/96230-B.jpg\" width=\"200\" height=\"200\"/>"
      ],
      "text/plain": [
       "<IPython.core.display.Image object>"
      ]
     },
     "metadata": {},
     "output_type": "display_data"
    },
    {
     "data": {
      "text/html": [
       "<img src=\"https://scrapingclub.com//static/img/73840-F.jpg\" width=\"200\" height=\"200\"/>"
      ],
      "text/plain": [
       "<IPython.core.display.Image object>"
      ]
     },
     "metadata": {},
     "output_type": "display_data"
    },
    {
     "data": {
      "text/html": [
       "<img src=\"https://scrapingclub.com//static/img/65763-A.jpg\" width=\"200\" height=\"200\"/>"
      ],
      "text/plain": [
       "<IPython.core.display.Image object>"
      ]
     },
     "metadata": {},
     "output_type": "display_data"
    },
    {
     "data": {
      "text/html": [
       "<img src=\"https://scrapingclub.com//static/img/96230-A.jpg\" width=\"200\" height=\"200\"/>"
      ],
      "text/plain": [
       "<IPython.core.display.Image object>"
      ]
     },
     "metadata": {},
     "output_type": "display_data"
    },
    {
     "data": {
      "text/html": [
       "<img src=\"https://scrapingclub.com//static/img/73840-P.jpg\" width=\"200\" height=\"200\"/>"
      ],
      "text/plain": [
       "<IPython.core.display.Image object>"
      ]
     },
     "metadata": {},
     "output_type": "display_data"
    },
    {
     "data": {
      "text/html": [
       "<img src=\"https://scrapingclub.com//static/img/73840-Q.jpg\" width=\"200\" height=\"200\"/>"
      ],
      "text/plain": [
       "<IPython.core.display.Image object>"
      ]
     },
     "metadata": {},
     "output_type": "display_data"
    },
    {
     "data": {
      "text/html": [
       "<img src=\"https://scrapingclub.com//static/img/96113-C.jpg\" width=\"200\" height=\"200\"/>"
      ],
      "text/plain": [
       "<IPython.core.display.Image object>"
      ]
     },
     "metadata": {},
     "output_type": "display_data"
    },
    {
     "data": {
      "text/html": [
       "<img src=\"https://scrapingclub.com//static/img/96230-C.jpg\" width=\"200\" height=\"200\"/>"
      ],
      "text/plain": [
       "<IPython.core.display.Image object>"
      ]
     },
     "metadata": {},
     "output_type": "display_data"
    },
    {
     "data": {
      "text/html": [
       "<img src=\"https://scrapingclub.com//static/img/00959-A.jpg\" width=\"200\" height=\"200\"/>"
      ],
      "text/plain": [
       "<IPython.core.display.Image object>"
      ]
     },
     "metadata": {},
     "output_type": "display_data"
    },
    {
     "data": {
      "text/html": [
       "<img src=\"https://scrapingclub.com//static/img/94323-B.jpg\" width=\"200\" height=\"200\"/>"
      ],
      "text/plain": [
       "<IPython.core.display.Image object>"
      ]
     },
     "metadata": {},
     "output_type": "display_data"
    },
    {
     "data": {
      "text/html": [
       "<img src=\"https://scrapingclub.com//static/img/71342-J.jpg\" width=\"200\" height=\"200\"/>"
      ],
      "text/plain": [
       "<IPython.core.display.Image object>"
      ]
     },
     "metadata": {},
     "output_type": "display_data"
    },
    {
     "data": {
      "text/html": [
       "<img src=\"https://scrapingclub.com//static/img/94453-B.jpg\" width=\"200\" height=\"200\"/>"
      ],
      "text/plain": [
       "<IPython.core.display.Image object>"
      ]
     },
     "metadata": {},
     "output_type": "display_data"
    },
    {
     "data": {
      "text/html": [
       "<img src=\"https://scrapingclub.com//static/img/34975-K.jpg\" width=\"200\" height=\"200\"/>"
      ],
      "text/plain": [
       "<IPython.core.display.Image object>"
      ]
     },
     "metadata": {},
     "output_type": "display_data"
    },
    {
     "data": {
      "text/html": [
       "<img src=\"https://scrapingclub.com//static/img/59851-A.jpg\" width=\"200\" height=\"200\"/>"
      ],
      "text/plain": [
       "<IPython.core.display.Image object>"
      ]
     },
     "metadata": {},
     "output_type": "display_data"
    },
    {
     "data": {
      "text/html": [
       "<img src=\"https://scrapingclub.com//static/img/93811-A.jpg\" width=\"200\" height=\"200\"/>"
      ],
      "text/plain": [
       "<IPython.core.display.Image object>"
      ]
     },
     "metadata": {},
     "output_type": "display_data"
    },
    {
     "data": {
      "text/html": [
       "<img src=\"https://scrapingclub.com//static/img/94967-A.jpg\" width=\"200\" height=\"200\"/>"
      ],
      "text/plain": [
       "<IPython.core.display.Image object>"
      ]
     },
     "metadata": {},
     "output_type": "display_data"
    },
    {
     "data": {
      "text/html": [
       "<img src=\"https://scrapingclub.com//static/img/92905-A.jpg\" width=\"200\" height=\"200\"/>"
      ],
      "text/plain": [
       "<IPython.core.display.Image object>"
      ]
     },
     "metadata": {},
     "output_type": "display_data"
    },
    {
     "data": {
      "text/html": [
       "<img src=\"https://scrapingclub.com//static/img/97504-A.jpg\" width=\"200\" height=\"200\"/>"
      ],
      "text/plain": [
       "<IPython.core.display.Image object>"
      ]
     },
     "metadata": {},
     "output_type": "display_data"
    },
    {
     "data": {
      "text/html": [
       "<img src=\"https://scrapingclub.com//static/img/93811-B.jpg\" width=\"200\" height=\"200\"/>"
      ],
      "text/plain": [
       "<IPython.core.display.Image object>"
      ]
     },
     "metadata": {},
     "output_type": "display_data"
    },
    {
     "data": {
      "text/html": [
       "<img src=\"https://scrapingclub.com//static/img/95168-D.jpg\" width=\"200\" height=\"200\"/>"
      ],
      "text/plain": [
       "<IPython.core.display.Image object>"
      ]
     },
     "metadata": {},
     "output_type": "display_data"
    },
    {
     "data": {
      "text/html": [
       "<img src=\"https://scrapingclub.com//static/img/52378-D.jpg\" width=\"200\" height=\"200\"/>"
      ],
      "text/plain": [
       "<IPython.core.display.Image object>"
      ]
     },
     "metadata": {},
     "output_type": "display_data"
    },
    {
     "data": {
      "text/html": [
       "<img src=\"https://scrapingclub.com//static/img/60135-A.jpg\" width=\"200\" height=\"200\"/>"
      ],
      "text/plain": [
       "<IPython.core.display.Image object>"
      ]
     },
     "metadata": {},
     "output_type": "display_data"
    },
    {
     "data": {
      "text/html": [
       "<img src=\"https://scrapingclub.com//static/img/91865-A.jpg\" width=\"200\" height=\"200\"/>"
      ],
      "text/plain": [
       "<IPython.core.display.Image object>"
      ]
     },
     "metadata": {},
     "output_type": "display_data"
    },
    {
     "data": {
      "text/html": [
       "<img src=\"https://scrapingclub.com//static/img/94323-A.jpg\" width=\"200\" height=\"200\"/>"
      ],
      "text/plain": [
       "<IPython.core.display.Image object>"
      ]
     },
     "metadata": {},
     "output_type": "display_data"
    },
    {
     "data": {
      "text/html": [
       "<img src=\"https://scrapingclub.com//static/img/92942-B.jpg\" width=\"200\" height=\"200\"/>"
      ],
      "text/plain": [
       "<IPython.core.display.Image object>"
      ]
     },
     "metadata": {},
     "output_type": "display_data"
    },
    {
     "data": {
      "text/html": [
       "<img src=\"https://scrapingclub.com//static/img/93270-A.jpg\" width=\"200\" height=\"200\"/>"
      ],
      "text/plain": [
       "<IPython.core.display.Image object>"
      ]
     },
     "metadata": {},
     "output_type": "display_data"
    },
    {
     "data": {
      "text/html": [
       "<img src=\"https://scrapingclub.com//static/img/96230-D.jpg\" width=\"200\" height=\"200\"/>"
      ],
      "text/plain": [
       "<IPython.core.display.Image object>"
      ]
     },
     "metadata": {},
     "output_type": "display_data"
    },
    {
     "data": {
      "text/html": [
       "<img src=\"https://scrapingclub.com//static/img/97571-B.jpg\" width=\"200\" height=\"200\"/>"
      ],
      "text/plain": [
       "<IPython.core.display.Image object>"
      ]
     },
     "metadata": {},
     "output_type": "display_data"
    },
    {
     "data": {
      "text/html": [
       "<img src=\"https://scrapingclub.com//static/img/92740-A.jpg\" width=\"200\" height=\"200\"/>"
      ],
      "text/plain": [
       "<IPython.core.display.Image object>"
      ]
     },
     "metadata": {},
     "output_type": "display_data"
    },
    {
     "data": {
      "text/html": [
       "<img src=\"https://scrapingclub.com//static/img/94984-A.jpg\" width=\"200\" height=\"200\"/>"
      ],
      "text/plain": [
       "<IPython.core.display.Image object>"
      ]
     },
     "metadata": {},
     "output_type": "display_data"
    },
    {
     "data": {
      "text/html": [
       "<img src=\"https://scrapingclub.com//static/img/96236-C.jpg\" width=\"200\" height=\"200\"/>"
      ],
      "text/plain": [
       "<IPython.core.display.Image object>"
      ]
     },
     "metadata": {},
     "output_type": "display_data"
    },
    {
     "data": {
      "text/html": [
       "<img src=\"https://scrapingclub.com//static/img/99663-A.jpg\" width=\"200\" height=\"200\"/>"
      ],
      "text/plain": [
       "<IPython.core.display.Image object>"
      ]
     },
     "metadata": {},
     "output_type": "display_data"
    },
    {
     "data": {
      "text/html": [
       "<img src=\"https://scrapingclub.com//static/img/00268-B.jpg\" width=\"200\" height=\"200\"/>"
      ],
      "text/plain": [
       "<IPython.core.display.Image object>"
      ]
     },
     "metadata": {},
     "output_type": "display_data"
    },
    {
     "data": {
      "text/html": [
       "<img src=\"https://scrapingclub.com//static/img/98209-A.jpg\" width=\"200\" height=\"200\"/>"
      ],
      "text/plain": [
       "<IPython.core.display.Image object>"
      ]
     },
     "metadata": {},
     "output_type": "display_data"
    },
    {
     "data": {
      "text/html": [
       "<img src=\"https://scrapingclub.com//static/img/93158-A.jpg\" width=\"200\" height=\"200\"/>"
      ],
      "text/plain": [
       "<IPython.core.display.Image object>"
      ]
     },
     "metadata": {},
     "output_type": "display_data"
    },
    {
     "data": {
      "text/html": [
       "<img src=\"https://scrapingclub.com//static/img/00948-B.jpg\" width=\"200\" height=\"200\"/>"
      ],
      "text/plain": [
       "<IPython.core.display.Image object>"
      ]
     },
     "metadata": {},
     "output_type": "display_data"
    },
    {
     "data": {
      "text/html": [
       "<img src=\"https://scrapingclub.com//static/img/94321-B.jpg\" width=\"200\" height=\"200\"/>"
      ],
      "text/plain": [
       "<IPython.core.display.Image object>"
      ]
     },
     "metadata": {},
     "output_type": "display_data"
    },
    {
     "data": {
      "text/html": [
       "<img src=\"https://scrapingclub.com//static/img/98086-A.jpg\" width=\"200\" height=\"200\"/>"
      ],
      "text/plain": [
       "<IPython.core.display.Image object>"
      ]
     },
     "metadata": {},
     "output_type": "display_data"
    },
    {
     "data": {
      "text/html": [
       "<img src=\"https://scrapingclub.com//static/img/01007-C.jpg\" width=\"200\" height=\"200\"/>"
      ],
      "text/plain": [
       "<IPython.core.display.Image object>"
      ]
     },
     "metadata": {},
     "output_type": "display_data"
    },
    {
     "data": {
      "text/html": [
       "<img src=\"https://scrapingclub.com//static/img/98894-A.jpg\" width=\"200\" height=\"200\"/>"
      ],
      "text/plain": [
       "<IPython.core.display.Image object>"
      ]
     },
     "metadata": {},
     "output_type": "display_data"
    },
    {
     "data": {
      "text/html": [
       "<img src=\"https://scrapingclub.com//static/img/00286-B.jpg\" width=\"200\" height=\"200\"/>"
      ],
      "text/plain": [
       "<IPython.core.display.Image object>"
      ]
     },
     "metadata": {},
     "output_type": "display_data"
    },
    {
     "data": {
      "text/html": [
       "<img src=\"https://scrapingclub.com//static/img/96113-B.jpg\" width=\"200\" height=\"200\"/>"
      ],
      "text/plain": [
       "<IPython.core.display.Image object>"
      ]
     },
     "metadata": {},
     "output_type": "display_data"
    },
    {
     "data": {
      "text/html": [
       "<img src=\"https://scrapingclub.com//static/img/96771-B.jpg\" width=\"200\" height=\"200\"/>"
      ],
      "text/plain": [
       "<IPython.core.display.Image object>"
      ]
     },
     "metadata": {},
     "output_type": "display_data"
    },
    {
     "data": {
      "text/html": [
       "<img src=\"https://scrapingclub.com//static/img/96771-A.jpg\" width=\"200\" height=\"200\"/>"
      ],
      "text/plain": [
       "<IPython.core.display.Image object>"
      ]
     },
     "metadata": {},
     "output_type": "display_data"
    },
    {
     "data": {
      "text/html": [
       "<img src=\"https://scrapingclub.com//static/img/93086-B.jpg\" width=\"200\" height=\"200\"/>"
      ],
      "text/plain": [
       "<IPython.core.display.Image object>"
      ]
     },
     "metadata": {},
     "output_type": "display_data"
    }
   ],
   "source": [
    "for i in links:\n",
    "    display(Image(url = i, height = 200, width = 200))"
   ]
  },
  {
   "cell_type": "code",
   "execution_count": null,
   "metadata": {},
   "outputs": [],
   "source": []
  }
 ],
 "metadata": {
  "kernelspec": {
   "display_name": "Python 3.7.4 64-bit ('base': conda)",
   "language": "python",
   "name": "python37464bitbaseconda1eb60c76e02b4ba9a2a4c9ec9b1fa267"
  },
  "language_info": {
   "codemirror_mode": {
    "name": "ipython",
    "version": 3
   },
   "file_extension": ".py",
   "mimetype": "text/x-python",
   "name": "python",
   "nbconvert_exporter": "python",
   "pygments_lexer": "ipython3",
   "version": "3.7.4"
  }
 },
 "nbformat": 4,
 "nbformat_minor": 4
}
