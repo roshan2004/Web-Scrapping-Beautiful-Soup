{
 "cells": [
  {
   "cell_type": "code",
   "execution_count": 1,
   "metadata": {},
   "outputs": [],
   "source": [
    "import requests\n",
    "from bs4 import BeautifulSoup\n"
   ]
  },
  {
   "cell_type": "code",
   "execution_count": 6,
   "metadata": {},
   "outputs": [
    {
     "name": "stdout",
     "output_type": "stream",
     "text": [
      "1) Short Dress : $24.99\n",
      "2) Patterned Slacks : $29.99\n",
      "3) Short Chiffon Dress : $49.99\n",
      "4) Off-the-shoulder Dress : $59.99\n",
      "5) V-neck Top : $24.99\n",
      "6) Short Chiffon Dress : $49.99\n",
      "7) V-neck Top : $24.99\n",
      "8) V-neck Top : $24.99\n",
      "9) Short Lace Dress : $59.99\n",
      "10) Fitted Dress : $34.99\n",
      "11) V-neck Jumpsuit : $69.99\n",
      "12) Chiffon Dress : $54.99\n",
      "13) Skinny High Waist Jeans : $39.99\n",
      "14) Super Skinny High Jeans : $19.99\n",
      "15) Oversized Denim Jacket : $19.99\n",
      "16) Short Sweatshirt : $24.99\n",
      "17) Long-sleeved Jersey Top : $12.99\n",
      "18) Skinny High Waist Jeans : $39.99\n",
      "19) Short Sweatshirt : $24.99\n",
      "20) Long-sleeved Jersey Top : $12.99\n",
      "21) Long-sleeved Jersey Top : $12.99\n",
      "22) Jersey Dress : $19.99\n",
      "23) Short Sweatshirt : $24.99\n",
      "24) Crinkled Flounced Blouse : $24.99\n",
      "25) Bib Overall Dress : $29.99\n",
      "26) Loose-knit Sweater : $17.99\n",
      "27) Skinny Regular Jeans : $29.99\n",
      "28) Henley-style Top : $12.99\n",
      "29) Joggers : $17.99\n",
      "30) Skirt with Lacing : $34.99\n",
      "31) Top with Tie : $17.99\n",
      "32) Joggers : $34.99\n",
      "33) Chiffon Dress with Flounce : $49.99\n",
      "34) Skirt with Lacing : $34.99\n",
      "35) V-neck Top : $9.99\n",
      "36) Hooded Jacket : $29.99\n",
      "37) Hooded Top : $29.99\n",
      "38) Lyocell-blend Blouse : $34.99\n",
      "39) Bib Overall Dress : $29.99\n",
      "40) Wide-leg Pants : $34.99\n",
      "41) Ankle-length Slim-fit Pants : $24.99\n",
      "42) Short Sweatshirt : $9.99\n",
      "43) V-neck Blouse : $17.99\n",
      "44) Short Skirt : $24.99\n",
      "45) Mesh T-shirt : $17.99\n",
      "46) Blouse with Embroidery : $59.99\n",
      "47) Wide-cut Cotton Top : $34.99\n",
      "48) Pleated Skirt : $54.99\n",
      "49) Coat : $69.99\n",
      "50) Wide-leg Pants : $49.99\n",
      "51) Top : $29.99\n",
      "52) Knit Mohair-blend Sweater : $69.99\n",
      "53) Dress : $69.99\n",
      "54) T-shirt with Embroidery : $29.99\n",
      "55) Blouse with Ruffled Collar : $49.99\n",
      "56) Pants : $49.99\n",
      "57) Jersey Dress : $19.99\n",
      "58) T-shirt : $6.99\n",
      "59) T-shirt : $6.99\n",
      "60) Blazer : $49.99\n"
     ]
    }
   ],
   "source": [
    "html = requests.get('https://scrapingclub.com/exercise/list_basic/')\n",
    "soup = BeautifulSoup(html.content, 'lxml')\n",
    "products = soup.find_all('div', 'col-lg-4 col-md-6 mb-4')\n",
    "links = soup.find('ul', class_ = 'pagination').find_all('a', class_='page-link')\n",
    "urls =[]\n",
    "count = 1\n",
    "for i in range(len(products)):\n",
    "    item_name = products[i].h4.text.strip()\n",
    "    item_price = products[i].h5.text\n",
    "    print('{}) {} : {}'.format(count, item_name, item_price))\n",
    "    count +=1\n",
    "    \n",
    "for j in links:\n",
    "    if j.text.isnumeric():\n",
    "        page_num = int(j.text)\n",
    "    else:\n",
    "        page_num = None\n",
    "    if type(page_num) == int:\n",
    "        urls.append('https://scrapingclub.com/exercise/list_basic/'+j.get('href'))\n",
    "for k in urls:\n",
    "    response = requests.get(k)\n",
    "    so = BeautifulSoup(response.content, 'lxml')\n",
    "    data = so.find_all('div', 'col-lg-4 col-md-6 mb-4')\n",
    "   \n",
    "    for m in range(len(data)):\n",
    "        item_name = data[m].h4.text.strip()\n",
    "        item_price = data[m].h5.text\n",
    "       \n",
    "        print('{}) {} : {}'.format(count, item_name, item_price))\n",
    "        count +=1\n",
    "        \n",
    "\n"
   ]
  },
  {
   "cell_type": "code",
   "execution_count": null,
   "metadata": {},
   "outputs": [],
   "source": []
  }
 ],
 "metadata": {
  "kernelspec": {
   "display_name": "Python 3.7.4 64-bit ('base': conda)",
   "language": "python",
   "name": "python37464bitbaseconda1eb60c76e02b4ba9a2a4c9ec9b1fa267"
  },
  "language_info": {
   "codemirror_mode": {
    "name": "ipython",
    "version": 3
   },
   "file_extension": ".py",
   "mimetype": "text/x-python",
   "name": "python",
   "nbconvert_exporter": "python",
   "pygments_lexer": "ipython3",
   "version": "3.7.4"
  }
 },
 "nbformat": 4,
 "nbformat_minor": 4
}
