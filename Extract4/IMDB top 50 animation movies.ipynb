{
 "cells": [
  {
   "cell_type": "code",
   "execution_count": 266,
   "metadata": {},
   "outputs": [],
   "source": [
    "import requests\n",
    "from bs4 import BeautifulSoup\n",
    "import pandas as pd\n",
    "import numpy as np\n",
    "import matplotlib.pyplot as plt\n",
    "import requests\n",
    "from bs4 import BeautifulSoup\n",
    "\n",
    "import matplotlib.pyplot as plt\n",
    "from IPython.display import Image\n",
    "from IPython.display import display\n"
   ]
  },
  {
   "cell_type": "code",
   "execution_count": 4,
   "metadata": {},
   "outputs": [],
   "source": [
    "url = requests.get('https://www.imdb.com/search/title/?title_type=feature&genres=animation')\n",
    "soup = BeautifulSoup(url.content, 'lxml')"
   ]
  },
  {
   "cell_type": "code",
   "execution_count": null,
   "metadata": {},
   "outputs": [],
   "source": []
  },
  {
   "cell_type": "code",
   "execution_count": 9,
   "metadata": {},
   "outputs": [],
   "source": [
    "lists = soup.find_all('div', class_='lister-item mode-advanced')"
   ]
  },
  {
   "cell_type": "code",
   "execution_count": 225,
   "metadata": {},
   "outputs": [],
   "source": [
    "year = []\n",
    "name = []\n",
    "ratings = []\n",
    "metascores = []\n",
    "votes = []"
   ]
  },
  {
   "cell_type": "code",
   "execution_count": 226,
   "metadata": {},
   "outputs": [],
   "source": [
    "for i in lists:\n",
    "    year.append(i.find('span', class_='lister-item-year text-muted unbold').text.strip(\"(I) \"))\n",
    "    name.append(i.find('h3', 'lister-item-header').a.text)\n",
    "    if i.find('div', class_='inline-block ratings-metascore') is None:\n",
    "        \n",
    "        metascores.append(np.nan)\n",
    "    else:\n",
    "        metascores.append(i.find('div', class_='inline-block ratings-metascore').span.text.strip())\n",
    "    if i.find('span', attrs = {'name':'nv'}) is None:\n",
    "        votes.append(np.nan)\n",
    "    else:\n",
    "        votes.append(i.find('span', attrs = {'name':'nv'}).text)\n",
    "    \n",
    "        \n",
    "        \n",
    "    \n",
    "    if i.strong is None:\n",
    "        ratings.append(np.nan)\n",
    "    else:\n",
    "        ratings.append(i.strong.text)"
   ]
  },
  {
   "cell_type": "code",
   "execution_count": 227,
   "metadata": {},
   "outputs": [],
   "source": [
    "df = pd.DataFrame({'Name_of_movie': name, 'Year_of_release': year, 'Ratings': ratings, 'Metascore': metascores, 'Votes': votes})"
   ]
  },
  {
   "cell_type": "code",
   "execution_count": 241,
   "metadata": {},
   "outputs": [
    {
     "data": {
      "text/html": [
       "<div>\n",
       "<style scoped>\n",
       "    .dataframe tbody tr th:only-of-type {\n",
       "        vertical-align: middle;\n",
       "    }\n",
       "\n",
       "    .dataframe tbody tr th {\n",
       "        vertical-align: top;\n",
       "    }\n",
       "\n",
       "    .dataframe thead th {\n",
       "        text-align: right;\n",
       "    }\n",
       "</style>\n",
       "<table border=\"1\" class=\"dataframe\">\n",
       "  <thead>\n",
       "    <tr style=\"text-align: right;\">\n",
       "      <th></th>\n",
       "      <th>Name_of_movie</th>\n",
       "      <th>Year_of_release</th>\n",
       "      <th>Ratings</th>\n",
       "      <th>Metascore</th>\n",
       "      <th>Votes</th>\n",
       "    </tr>\n",
       "  </thead>\n",
       "  <tbody>\n",
       "    <tr>\n",
       "      <th>0</th>\n",
       "      <td>Scoob!</td>\n",
       "      <td>2020</td>\n",
       "      <td>5.8</td>\n",
       "      <td>43</td>\n",
       "      <td>8,507</td>\n",
       "    </tr>\n",
       "    <tr>\n",
       "      <th>1</th>\n",
       "      <td>Onward</td>\n",
       "      <td>2020</td>\n",
       "      <td>7.5</td>\n",
       "      <td>61</td>\n",
       "      <td>63,242</td>\n",
       "    </tr>\n",
       "    <tr>\n",
       "      <th>2</th>\n",
       "      <td>The Lion King</td>\n",
       "      <td>2019</td>\n",
       "      <td>6.9</td>\n",
       "      <td>55</td>\n",
       "      <td>193,072</td>\n",
       "    </tr>\n",
       "    <tr>\n",
       "      <th>3</th>\n",
       "      <td>Frozen II</td>\n",
       "      <td>2019</td>\n",
       "      <td>6.9</td>\n",
       "      <td>64</td>\n",
       "      <td>111,328</td>\n",
       "    </tr>\n",
       "    <tr>\n",
       "      <th>4</th>\n",
       "      <td>Trolls World Tour</td>\n",
       "      <td>2020</td>\n",
       "      <td>6.1</td>\n",
       "      <td>51</td>\n",
       "      <td>8,443</td>\n",
       "    </tr>\n",
       "    <tr>\n",
       "      <th>5</th>\n",
       "      <td>Spider-Man: Into the Spider-Verse</td>\n",
       "      <td>2018</td>\n",
       "      <td>8.4</td>\n",
       "      <td>87</td>\n",
       "      <td>321,229</td>\n",
       "    </tr>\n",
       "    <tr>\n",
       "      <th>6</th>\n",
       "      <td>Sen to Chihiro no kamikakushi</td>\n",
       "      <td>2001</td>\n",
       "      <td>8.6</td>\n",
       "      <td>96</td>\n",
       "      <td>614,252</td>\n",
       "    </tr>\n",
       "    <tr>\n",
       "      <th>7</th>\n",
       "      <td>Up</td>\n",
       "      <td>2009</td>\n",
       "      <td>8.2</td>\n",
       "      <td>88</td>\n",
       "      <td>901,713</td>\n",
       "    </tr>\n",
       "    <tr>\n",
       "      <th>8</th>\n",
       "      <td>Moana</td>\n",
       "      <td>2016</td>\n",
       "      <td>7.6</td>\n",
       "      <td>81</td>\n",
       "      <td>254,243</td>\n",
       "    </tr>\n",
       "    <tr>\n",
       "      <th>9</th>\n",
       "      <td>The Addams Family</td>\n",
       "      <td>2019</td>\n",
       "      <td>5.8</td>\n",
       "      <td>46</td>\n",
       "      <td>20,870</td>\n",
       "    </tr>\n",
       "    <tr>\n",
       "      <th>10</th>\n",
       "      <td>Toy Story 4</td>\n",
       "      <td>2019</td>\n",
       "      <td>7.8</td>\n",
       "      <td>84</td>\n",
       "      <td>181,598</td>\n",
       "    </tr>\n",
       "    <tr>\n",
       "      <th>11</th>\n",
       "      <td>The SpongeBob Movie: Sponge on the Run</td>\n",
       "      <td>2020</td>\n",
       "      <td>NaN</td>\n",
       "      <td>NaN</td>\n",
       "      <td>NaN</td>\n",
       "    </tr>\n",
       "    <tr>\n",
       "      <th>12</th>\n",
       "      <td>Tenki no ko</td>\n",
       "      <td>2019</td>\n",
       "      <td>7.6</td>\n",
       "      <td>72</td>\n",
       "      <td>12,258</td>\n",
       "    </tr>\n",
       "    <tr>\n",
       "      <th>13</th>\n",
       "      <td>Zootopia</td>\n",
       "      <td>2016</td>\n",
       "      <td>8.0</td>\n",
       "      <td>78</td>\n",
       "      <td>415,338</td>\n",
       "    </tr>\n",
       "    <tr>\n",
       "      <th>14</th>\n",
       "      <td>Frozen</td>\n",
       "      <td>2013</td>\n",
       "      <td>7.4</td>\n",
       "      <td>75</td>\n",
       "      <td>555,580</td>\n",
       "    </tr>\n",
       "    <tr>\n",
       "      <th>15</th>\n",
       "      <td>The Lion King</td>\n",
       "      <td>1994</td>\n",
       "      <td>8.5</td>\n",
       "      <td>88</td>\n",
       "      <td>906,563</td>\n",
       "    </tr>\n",
       "    <tr>\n",
       "      <th>16</th>\n",
       "      <td>Hauru no ugoku shiro</td>\n",
       "      <td>2004</td>\n",
       "      <td>8.2</td>\n",
       "      <td>80</td>\n",
       "      <td>311,175</td>\n",
       "    </tr>\n",
       "    <tr>\n",
       "      <th>17</th>\n",
       "      <td>The Willoughbys</td>\n",
       "      <td>2020</td>\n",
       "      <td>6.4</td>\n",
       "      <td>68</td>\n",
       "      <td>9,094</td>\n",
       "    </tr>\n",
       "    <tr>\n",
       "      <th>18</th>\n",
       "      <td>Space Jam</td>\n",
       "      <td>1996</td>\n",
       "      <td>6.4</td>\n",
       "      <td>59</td>\n",
       "      <td>156,661</td>\n",
       "    </tr>\n",
       "    <tr>\n",
       "      <th>19</th>\n",
       "      <td>Kimi no na wa.</td>\n",
       "      <td>2016</td>\n",
       "      <td>8.4</td>\n",
       "      <td>79</td>\n",
       "      <td>170,494</td>\n",
       "    </tr>\n",
       "    <tr>\n",
       "      <th>20</th>\n",
       "      <td>Fantastic Mr. Fox</td>\n",
       "      <td>2009</td>\n",
       "      <td>7.9</td>\n",
       "      <td>83</td>\n",
       "      <td>190,040</td>\n",
       "    </tr>\n",
       "    <tr>\n",
       "      <th>21</th>\n",
       "      <td>Coco</td>\n",
       "      <td>2017</td>\n",
       "      <td>8.4</td>\n",
       "      <td>81</td>\n",
       "      <td>341,563</td>\n",
       "    </tr>\n",
       "    <tr>\n",
       "      <th>22</th>\n",
       "      <td>Mononoke-hime</td>\n",
       "      <td>1997</td>\n",
       "      <td>8.4</td>\n",
       "      <td>76</td>\n",
       "      <td>324,092</td>\n",
       "    </tr>\n",
       "    <tr>\n",
       "      <th>23</th>\n",
       "      <td>Cars</td>\n",
       "      <td>2006</td>\n",
       "      <td>7.1</td>\n",
       "      <td>73</td>\n",
       "      <td>353,633</td>\n",
       "    </tr>\n",
       "    <tr>\n",
       "      <th>24</th>\n",
       "      <td>Spies in Disguise</td>\n",
       "      <td>2019</td>\n",
       "      <td>6.8</td>\n",
       "      <td>54</td>\n",
       "      <td>24,182</td>\n",
       "    </tr>\n",
       "    <tr>\n",
       "      <th>25</th>\n",
       "      <td>Hercules</td>\n",
       "      <td>1997</td>\n",
       "      <td>7.3</td>\n",
       "      <td>74</td>\n",
       "      <td>197,436</td>\n",
       "    </tr>\n",
       "    <tr>\n",
       "      <th>26</th>\n",
       "      <td>Ratatouille</td>\n",
       "      <td>2007</td>\n",
       "      <td>8.0</td>\n",
       "      <td>96</td>\n",
       "      <td>618,050</td>\n",
       "    </tr>\n",
       "    <tr>\n",
       "      <th>27</th>\n",
       "      <td>Inside Out</td>\n",
       "      <td>2015</td>\n",
       "      <td>8.1</td>\n",
       "      <td>94</td>\n",
       "      <td>584,111</td>\n",
       "    </tr>\n",
       "    <tr>\n",
       "      <th>28</th>\n",
       "      <td>Mulan</td>\n",
       "      <td>1998</td>\n",
       "      <td>7.6</td>\n",
       "      <td>71</td>\n",
       "      <td>240,997</td>\n",
       "    </tr>\n",
       "    <tr>\n",
       "      <th>29</th>\n",
       "      <td>Tangled</td>\n",
       "      <td>2010</td>\n",
       "      <td>7.7</td>\n",
       "      <td>71</td>\n",
       "      <td>391,888</td>\n",
       "    </tr>\n",
       "    <tr>\n",
       "      <th>30</th>\n",
       "      <td>Sing</td>\n",
       "      <td>2016</td>\n",
       "      <td>7.1</td>\n",
       "      <td>59</td>\n",
       "      <td>127,648</td>\n",
       "    </tr>\n",
       "    <tr>\n",
       "      <th>31</th>\n",
       "      <td>The Incredibles</td>\n",
       "      <td>2004</td>\n",
       "      <td>8.0</td>\n",
       "      <td>90</td>\n",
       "      <td>637,110</td>\n",
       "    </tr>\n",
       "    <tr>\n",
       "      <th>32</th>\n",
       "      <td>Toy Story</td>\n",
       "      <td>1995</td>\n",
       "      <td>8.3</td>\n",
       "      <td>95</td>\n",
       "      <td>855,065</td>\n",
       "    </tr>\n",
       "    <tr>\n",
       "      <th>33</th>\n",
       "      <td>Incredibles 2</td>\n",
       "      <td>2018</td>\n",
       "      <td>7.6</td>\n",
       "      <td>80</td>\n",
       "      <td>234,648</td>\n",
       "    </tr>\n",
       "    <tr>\n",
       "      <th>34</th>\n",
       "      <td>Mortal Kombat Legends: Scorpion's Revenge</td>\n",
       "      <td>2020</td>\n",
       "      <td>7.5</td>\n",
       "      <td>NaN</td>\n",
       "      <td>7,793</td>\n",
       "    </tr>\n",
       "    <tr>\n",
       "      <th>35</th>\n",
       "      <td>Ralph Breaks the Internet</td>\n",
       "      <td>2018</td>\n",
       "      <td>7.1</td>\n",
       "      <td>71</td>\n",
       "      <td>120,362</td>\n",
       "    </tr>\n",
       "    <tr>\n",
       "      <th>36</th>\n",
       "      <td>A Bug's Life</td>\n",
       "      <td>1998</td>\n",
       "      <td>7.2</td>\n",
       "      <td>77</td>\n",
       "      <td>259,179</td>\n",
       "    </tr>\n",
       "    <tr>\n",
       "      <th>37</th>\n",
       "      <td>Finding Nemo</td>\n",
       "      <td>2003</td>\n",
       "      <td>8.1</td>\n",
       "      <td>90</td>\n",
       "      <td>919,172</td>\n",
       "    </tr>\n",
       "    <tr>\n",
       "      <th>38</th>\n",
       "      <td>Tonari no Totoro</td>\n",
       "      <td>1988</td>\n",
       "      <td>8.2</td>\n",
       "      <td>86</td>\n",
       "      <td>271,249</td>\n",
       "    </tr>\n",
       "    <tr>\n",
       "      <th>39</th>\n",
       "      <td>The Secret Life of Pets 2</td>\n",
       "      <td>2019</td>\n",
       "      <td>6.5</td>\n",
       "      <td>55</td>\n",
       "      <td>44,103</td>\n",
       "    </tr>\n",
       "    <tr>\n",
       "      <th>40</th>\n",
       "      <td>Red Shoes and the Seven Dwarfs</td>\n",
       "      <td>2019</td>\n",
       "      <td>6.3</td>\n",
       "      <td>NaN</td>\n",
       "      <td>1,270</td>\n",
       "    </tr>\n",
       "    <tr>\n",
       "      <th>41</th>\n",
       "      <td>The Princess and the Frog</td>\n",
       "      <td>2009</td>\n",
       "      <td>7.1</td>\n",
       "      <td>73</td>\n",
       "      <td>118,296</td>\n",
       "    </tr>\n",
       "    <tr>\n",
       "      <th>42</th>\n",
       "      <td>WALL·E</td>\n",
       "      <td>2008</td>\n",
       "      <td>8.4</td>\n",
       "      <td>95</td>\n",
       "      <td>964,517</td>\n",
       "    </tr>\n",
       "    <tr>\n",
       "      <th>43</th>\n",
       "      <td>Shrek</td>\n",
       "      <td>2001</td>\n",
       "      <td>7.8</td>\n",
       "      <td>84</td>\n",
       "      <td>594,740</td>\n",
       "    </tr>\n",
       "    <tr>\n",
       "      <th>44</th>\n",
       "      <td>Aladdin</td>\n",
       "      <td>1992</td>\n",
       "      <td>8.0</td>\n",
       "      <td>86</td>\n",
       "      <td>358,912</td>\n",
       "    </tr>\n",
       "    <tr>\n",
       "      <th>45</th>\n",
       "      <td>Monsters, Inc.</td>\n",
       "      <td>2001</td>\n",
       "      <td>8.0</td>\n",
       "      <td>79</td>\n",
       "      <td>787,201</td>\n",
       "    </tr>\n",
       "    <tr>\n",
       "      <th>46</th>\n",
       "      <td>Enchanted</td>\n",
       "      <td>2007</td>\n",
       "      <td>7.0</td>\n",
       "      <td>75</td>\n",
       "      <td>172,459</td>\n",
       "    </tr>\n",
       "    <tr>\n",
       "      <th>47</th>\n",
       "      <td>Despicable Me</td>\n",
       "      <td>2010</td>\n",
       "      <td>7.6</td>\n",
       "      <td>72</td>\n",
       "      <td>487,253</td>\n",
       "    </tr>\n",
       "    <tr>\n",
       "      <th>48</th>\n",
       "      <td>Big Hero 6</td>\n",
       "      <td>2014</td>\n",
       "      <td>7.8</td>\n",
       "      <td>74</td>\n",
       "      <td>396,599</td>\n",
       "    </tr>\n",
       "    <tr>\n",
       "      <th>49</th>\n",
       "      <td>Ne Zha zhi mo tong jiang shi</td>\n",
       "      <td>2019</td>\n",
       "      <td>7.5</td>\n",
       "      <td>54</td>\n",
       "      <td>4,438</td>\n",
       "    </tr>\n",
       "  </tbody>\n",
       "</table>\n",
       "</div>"
      ],
      "text/plain": [
       "                                Name_of_movie Year_of_release Ratings  \\\n",
       "0                                      Scoob!            2020     5.8   \n",
       "1                                      Onward            2020     7.5   \n",
       "2                               The Lion King            2019     6.9   \n",
       "3                                   Frozen II            2019     6.9   \n",
       "4                           Trolls World Tour            2020     6.1   \n",
       "5           Spider-Man: Into the Spider-Verse            2018     8.4   \n",
       "6               Sen to Chihiro no kamikakushi            2001     8.6   \n",
       "7                                          Up            2009     8.2   \n",
       "8                                       Moana            2016     7.6   \n",
       "9                           The Addams Family            2019     5.8   \n",
       "10                                Toy Story 4            2019     7.8   \n",
       "11     The SpongeBob Movie: Sponge on the Run            2020     NaN   \n",
       "12                                Tenki no ko            2019     7.6   \n",
       "13                                   Zootopia            2016     8.0   \n",
       "14                                     Frozen            2013     7.4   \n",
       "15                              The Lion King            1994     8.5   \n",
       "16                       Hauru no ugoku shiro            2004     8.2   \n",
       "17                            The Willoughbys            2020     6.4   \n",
       "18                                  Space Jam            1996     6.4   \n",
       "19                             Kimi no na wa.            2016     8.4   \n",
       "20                          Fantastic Mr. Fox            2009     7.9   \n",
       "21                                       Coco            2017     8.4   \n",
       "22                              Mononoke-hime            1997     8.4   \n",
       "23                                       Cars            2006     7.1   \n",
       "24                          Spies in Disguise            2019     6.8   \n",
       "25                                   Hercules            1997     7.3   \n",
       "26                                Ratatouille            2007     8.0   \n",
       "27                                 Inside Out            2015     8.1   \n",
       "28                                      Mulan            1998     7.6   \n",
       "29                                    Tangled            2010     7.7   \n",
       "30                                       Sing            2016     7.1   \n",
       "31                            The Incredibles            2004     8.0   \n",
       "32                                  Toy Story            1995     8.3   \n",
       "33                              Incredibles 2            2018     7.6   \n",
       "34  Mortal Kombat Legends: Scorpion's Revenge            2020     7.5   \n",
       "35                  Ralph Breaks the Internet            2018     7.1   \n",
       "36                               A Bug's Life            1998     7.2   \n",
       "37                               Finding Nemo            2003     8.1   \n",
       "38                           Tonari no Totoro            1988     8.2   \n",
       "39                  The Secret Life of Pets 2            2019     6.5   \n",
       "40             Red Shoes and the Seven Dwarfs            2019     6.3   \n",
       "41                  The Princess and the Frog            2009     7.1   \n",
       "42                                     WALL·E            2008     8.4   \n",
       "43                                      Shrek            2001     7.8   \n",
       "44                                    Aladdin            1992     8.0   \n",
       "45                             Monsters, Inc.            2001     8.0   \n",
       "46                                  Enchanted            2007     7.0   \n",
       "47                              Despicable Me            2010     7.6   \n",
       "48                                 Big Hero 6            2014     7.8   \n",
       "49               Ne Zha zhi mo tong jiang shi            2019     7.5   \n",
       "\n",
       "   Metascore    Votes  \n",
       "0         43    8,507  \n",
       "1         61   63,242  \n",
       "2         55  193,072  \n",
       "3         64  111,328  \n",
       "4         51    8,443  \n",
       "5         87  321,229  \n",
       "6         96  614,252  \n",
       "7         88  901,713  \n",
       "8         81  254,243  \n",
       "9         46   20,870  \n",
       "10        84  181,598  \n",
       "11       NaN      NaN  \n",
       "12        72   12,258  \n",
       "13        78  415,338  \n",
       "14        75  555,580  \n",
       "15        88  906,563  \n",
       "16        80  311,175  \n",
       "17        68    9,094  \n",
       "18        59  156,661  \n",
       "19        79  170,494  \n",
       "20        83  190,040  \n",
       "21        81  341,563  \n",
       "22        76  324,092  \n",
       "23        73  353,633  \n",
       "24        54   24,182  \n",
       "25        74  197,436  \n",
       "26        96  618,050  \n",
       "27        94  584,111  \n",
       "28        71  240,997  \n",
       "29        71  391,888  \n",
       "30        59  127,648  \n",
       "31        90  637,110  \n",
       "32        95  855,065  \n",
       "33        80  234,648  \n",
       "34       NaN    7,793  \n",
       "35        71  120,362  \n",
       "36        77  259,179  \n",
       "37        90  919,172  \n",
       "38        86  271,249  \n",
       "39        55   44,103  \n",
       "40       NaN    1,270  \n",
       "41        73  118,296  \n",
       "42        95  964,517  \n",
       "43        84  594,740  \n",
       "44        86  358,912  \n",
       "45        79  787,201  \n",
       "46        75  172,459  \n",
       "47        72  487,253  \n",
       "48        74  396,599  \n",
       "49        54    4,438  "
      ]
     },
     "execution_count": 241,
     "metadata": {},
     "output_type": "execute_result"
    }
   ],
   "source": [
    "df"
   ]
  },
  {
   "cell_type": "code",
   "execution_count": 249,
   "metadata": {},
   "outputs": [],
   "source": [
    "df.set_index('Name_of_movie', inplace = True)"
   ]
  },
  {
   "cell_type": "code",
   "execution_count": 250,
   "metadata": {},
   "outputs": [
    {
     "data": {
      "text/html": [
       "<div>\n",
       "<style scoped>\n",
       "    .dataframe tbody tr th:only-of-type {\n",
       "        vertical-align: middle;\n",
       "    }\n",
       "\n",
       "    .dataframe tbody tr th {\n",
       "        vertical-align: top;\n",
       "    }\n",
       "\n",
       "    .dataframe thead th {\n",
       "        text-align: right;\n",
       "    }\n",
       "</style>\n",
       "<table border=\"1\" class=\"dataframe\">\n",
       "  <thead>\n",
       "    <tr style=\"text-align: right;\">\n",
       "      <th></th>\n",
       "      <th>Year_of_release</th>\n",
       "      <th>Ratings</th>\n",
       "      <th>Metascore</th>\n",
       "      <th>Votes</th>\n",
       "    </tr>\n",
       "    <tr>\n",
       "      <th>Name_of_movie</th>\n",
       "      <th></th>\n",
       "      <th></th>\n",
       "      <th></th>\n",
       "      <th></th>\n",
       "    </tr>\n",
       "  </thead>\n",
       "  <tbody>\n",
       "    <tr>\n",
       "      <th>Scoob!</th>\n",
       "      <td>2020</td>\n",
       "      <td>5.8</td>\n",
       "      <td>43</td>\n",
       "      <td>8,507</td>\n",
       "    </tr>\n",
       "    <tr>\n",
       "      <th>Onward</th>\n",
       "      <td>2020</td>\n",
       "      <td>7.5</td>\n",
       "      <td>61</td>\n",
       "      <td>63,242</td>\n",
       "    </tr>\n",
       "    <tr>\n",
       "      <th>The Lion King</th>\n",
       "      <td>2019</td>\n",
       "      <td>6.9</td>\n",
       "      <td>55</td>\n",
       "      <td>193,072</td>\n",
       "    </tr>\n",
       "    <tr>\n",
       "      <th>Frozen II</th>\n",
       "      <td>2019</td>\n",
       "      <td>6.9</td>\n",
       "      <td>64</td>\n",
       "      <td>111,328</td>\n",
       "    </tr>\n",
       "    <tr>\n",
       "      <th>Trolls World Tour</th>\n",
       "      <td>2020</td>\n",
       "      <td>6.1</td>\n",
       "      <td>51</td>\n",
       "      <td>8,443</td>\n",
       "    </tr>\n",
       "    <tr>\n",
       "      <th>Spider-Man: Into the Spider-Verse</th>\n",
       "      <td>2018</td>\n",
       "      <td>8.4</td>\n",
       "      <td>87</td>\n",
       "      <td>321,229</td>\n",
       "    </tr>\n",
       "    <tr>\n",
       "      <th>Sen to Chihiro no kamikakushi</th>\n",
       "      <td>2001</td>\n",
       "      <td>8.6</td>\n",
       "      <td>96</td>\n",
       "      <td>614,252</td>\n",
       "    </tr>\n",
       "    <tr>\n",
       "      <th>Up</th>\n",
       "      <td>2009</td>\n",
       "      <td>8.2</td>\n",
       "      <td>88</td>\n",
       "      <td>901,713</td>\n",
       "    </tr>\n",
       "    <tr>\n",
       "      <th>Moana</th>\n",
       "      <td>2016</td>\n",
       "      <td>7.6</td>\n",
       "      <td>81</td>\n",
       "      <td>254,243</td>\n",
       "    </tr>\n",
       "    <tr>\n",
       "      <th>The Addams Family</th>\n",
       "      <td>2019</td>\n",
       "      <td>5.8</td>\n",
       "      <td>46</td>\n",
       "      <td>20,870</td>\n",
       "    </tr>\n",
       "    <tr>\n",
       "      <th>Toy Story 4</th>\n",
       "      <td>2019</td>\n",
       "      <td>7.8</td>\n",
       "      <td>84</td>\n",
       "      <td>181,598</td>\n",
       "    </tr>\n",
       "    <tr>\n",
       "      <th>The SpongeBob Movie: Sponge on the Run</th>\n",
       "      <td>2020</td>\n",
       "      <td>NaN</td>\n",
       "      <td>NaN</td>\n",
       "      <td>NaN</td>\n",
       "    </tr>\n",
       "    <tr>\n",
       "      <th>Tenki no ko</th>\n",
       "      <td>2019</td>\n",
       "      <td>7.6</td>\n",
       "      <td>72</td>\n",
       "      <td>12,258</td>\n",
       "    </tr>\n",
       "    <tr>\n",
       "      <th>Zootopia</th>\n",
       "      <td>2016</td>\n",
       "      <td>8.0</td>\n",
       "      <td>78</td>\n",
       "      <td>415,338</td>\n",
       "    </tr>\n",
       "    <tr>\n",
       "      <th>Frozen</th>\n",
       "      <td>2013</td>\n",
       "      <td>7.4</td>\n",
       "      <td>75</td>\n",
       "      <td>555,580</td>\n",
       "    </tr>\n",
       "    <tr>\n",
       "      <th>The Lion King</th>\n",
       "      <td>1994</td>\n",
       "      <td>8.5</td>\n",
       "      <td>88</td>\n",
       "      <td>906,563</td>\n",
       "    </tr>\n",
       "    <tr>\n",
       "      <th>Hauru no ugoku shiro</th>\n",
       "      <td>2004</td>\n",
       "      <td>8.2</td>\n",
       "      <td>80</td>\n",
       "      <td>311,175</td>\n",
       "    </tr>\n",
       "    <tr>\n",
       "      <th>The Willoughbys</th>\n",
       "      <td>2020</td>\n",
       "      <td>6.4</td>\n",
       "      <td>68</td>\n",
       "      <td>9,094</td>\n",
       "    </tr>\n",
       "    <tr>\n",
       "      <th>Space Jam</th>\n",
       "      <td>1996</td>\n",
       "      <td>6.4</td>\n",
       "      <td>59</td>\n",
       "      <td>156,661</td>\n",
       "    </tr>\n",
       "    <tr>\n",
       "      <th>Kimi no na wa.</th>\n",
       "      <td>2016</td>\n",
       "      <td>8.4</td>\n",
       "      <td>79</td>\n",
       "      <td>170,494</td>\n",
       "    </tr>\n",
       "    <tr>\n",
       "      <th>Fantastic Mr. Fox</th>\n",
       "      <td>2009</td>\n",
       "      <td>7.9</td>\n",
       "      <td>83</td>\n",
       "      <td>190,040</td>\n",
       "    </tr>\n",
       "    <tr>\n",
       "      <th>Coco</th>\n",
       "      <td>2017</td>\n",
       "      <td>8.4</td>\n",
       "      <td>81</td>\n",
       "      <td>341,563</td>\n",
       "    </tr>\n",
       "    <tr>\n",
       "      <th>Mononoke-hime</th>\n",
       "      <td>1997</td>\n",
       "      <td>8.4</td>\n",
       "      <td>76</td>\n",
       "      <td>324,092</td>\n",
       "    </tr>\n",
       "    <tr>\n",
       "      <th>Cars</th>\n",
       "      <td>2006</td>\n",
       "      <td>7.1</td>\n",
       "      <td>73</td>\n",
       "      <td>353,633</td>\n",
       "    </tr>\n",
       "    <tr>\n",
       "      <th>Spies in Disguise</th>\n",
       "      <td>2019</td>\n",
       "      <td>6.8</td>\n",
       "      <td>54</td>\n",
       "      <td>24,182</td>\n",
       "    </tr>\n",
       "    <tr>\n",
       "      <th>Hercules</th>\n",
       "      <td>1997</td>\n",
       "      <td>7.3</td>\n",
       "      <td>74</td>\n",
       "      <td>197,436</td>\n",
       "    </tr>\n",
       "    <tr>\n",
       "      <th>Ratatouille</th>\n",
       "      <td>2007</td>\n",
       "      <td>8.0</td>\n",
       "      <td>96</td>\n",
       "      <td>618,050</td>\n",
       "    </tr>\n",
       "    <tr>\n",
       "      <th>Inside Out</th>\n",
       "      <td>2015</td>\n",
       "      <td>8.1</td>\n",
       "      <td>94</td>\n",
       "      <td>584,111</td>\n",
       "    </tr>\n",
       "    <tr>\n",
       "      <th>Mulan</th>\n",
       "      <td>1998</td>\n",
       "      <td>7.6</td>\n",
       "      <td>71</td>\n",
       "      <td>240,997</td>\n",
       "    </tr>\n",
       "    <tr>\n",
       "      <th>Tangled</th>\n",
       "      <td>2010</td>\n",
       "      <td>7.7</td>\n",
       "      <td>71</td>\n",
       "      <td>391,888</td>\n",
       "    </tr>\n",
       "    <tr>\n",
       "      <th>Sing</th>\n",
       "      <td>2016</td>\n",
       "      <td>7.1</td>\n",
       "      <td>59</td>\n",
       "      <td>127,648</td>\n",
       "    </tr>\n",
       "    <tr>\n",
       "      <th>The Incredibles</th>\n",
       "      <td>2004</td>\n",
       "      <td>8.0</td>\n",
       "      <td>90</td>\n",
       "      <td>637,110</td>\n",
       "    </tr>\n",
       "    <tr>\n",
       "      <th>Toy Story</th>\n",
       "      <td>1995</td>\n",
       "      <td>8.3</td>\n",
       "      <td>95</td>\n",
       "      <td>855,065</td>\n",
       "    </tr>\n",
       "    <tr>\n",
       "      <th>Incredibles 2</th>\n",
       "      <td>2018</td>\n",
       "      <td>7.6</td>\n",
       "      <td>80</td>\n",
       "      <td>234,648</td>\n",
       "    </tr>\n",
       "    <tr>\n",
       "      <th>Mortal Kombat Legends: Scorpion's Revenge</th>\n",
       "      <td>2020</td>\n",
       "      <td>7.5</td>\n",
       "      <td>NaN</td>\n",
       "      <td>7,793</td>\n",
       "    </tr>\n",
       "    <tr>\n",
       "      <th>Ralph Breaks the Internet</th>\n",
       "      <td>2018</td>\n",
       "      <td>7.1</td>\n",
       "      <td>71</td>\n",
       "      <td>120,362</td>\n",
       "    </tr>\n",
       "    <tr>\n",
       "      <th>A Bug's Life</th>\n",
       "      <td>1998</td>\n",
       "      <td>7.2</td>\n",
       "      <td>77</td>\n",
       "      <td>259,179</td>\n",
       "    </tr>\n",
       "    <tr>\n",
       "      <th>Finding Nemo</th>\n",
       "      <td>2003</td>\n",
       "      <td>8.1</td>\n",
       "      <td>90</td>\n",
       "      <td>919,172</td>\n",
       "    </tr>\n",
       "    <tr>\n",
       "      <th>Tonari no Totoro</th>\n",
       "      <td>1988</td>\n",
       "      <td>8.2</td>\n",
       "      <td>86</td>\n",
       "      <td>271,249</td>\n",
       "    </tr>\n",
       "    <tr>\n",
       "      <th>The Secret Life of Pets 2</th>\n",
       "      <td>2019</td>\n",
       "      <td>6.5</td>\n",
       "      <td>55</td>\n",
       "      <td>44,103</td>\n",
       "    </tr>\n",
       "    <tr>\n",
       "      <th>Red Shoes and the Seven Dwarfs</th>\n",
       "      <td>2019</td>\n",
       "      <td>6.3</td>\n",
       "      <td>NaN</td>\n",
       "      <td>1,270</td>\n",
       "    </tr>\n",
       "    <tr>\n",
       "      <th>The Princess and the Frog</th>\n",
       "      <td>2009</td>\n",
       "      <td>7.1</td>\n",
       "      <td>73</td>\n",
       "      <td>118,296</td>\n",
       "    </tr>\n",
       "    <tr>\n",
       "      <th>WALL·E</th>\n",
       "      <td>2008</td>\n",
       "      <td>8.4</td>\n",
       "      <td>95</td>\n",
       "      <td>964,517</td>\n",
       "    </tr>\n",
       "    <tr>\n",
       "      <th>Shrek</th>\n",
       "      <td>2001</td>\n",
       "      <td>7.8</td>\n",
       "      <td>84</td>\n",
       "      <td>594,740</td>\n",
       "    </tr>\n",
       "    <tr>\n",
       "      <th>Aladdin</th>\n",
       "      <td>1992</td>\n",
       "      <td>8.0</td>\n",
       "      <td>86</td>\n",
       "      <td>358,912</td>\n",
       "    </tr>\n",
       "    <tr>\n",
       "      <th>Monsters, Inc.</th>\n",
       "      <td>2001</td>\n",
       "      <td>8.0</td>\n",
       "      <td>79</td>\n",
       "      <td>787,201</td>\n",
       "    </tr>\n",
       "    <tr>\n",
       "      <th>Enchanted</th>\n",
       "      <td>2007</td>\n",
       "      <td>7.0</td>\n",
       "      <td>75</td>\n",
       "      <td>172,459</td>\n",
       "    </tr>\n",
       "    <tr>\n",
       "      <th>Despicable Me</th>\n",
       "      <td>2010</td>\n",
       "      <td>7.6</td>\n",
       "      <td>72</td>\n",
       "      <td>487,253</td>\n",
       "    </tr>\n",
       "    <tr>\n",
       "      <th>Big Hero 6</th>\n",
       "      <td>2014</td>\n",
       "      <td>7.8</td>\n",
       "      <td>74</td>\n",
       "      <td>396,599</td>\n",
       "    </tr>\n",
       "    <tr>\n",
       "      <th>Ne Zha zhi mo tong jiang shi</th>\n",
       "      <td>2019</td>\n",
       "      <td>7.5</td>\n",
       "      <td>54</td>\n",
       "      <td>4,438</td>\n",
       "    </tr>\n",
       "  </tbody>\n",
       "</table>\n",
       "</div>"
      ],
      "text/plain": [
       "                                          Year_of_release Ratings Metascore  \\\n",
       "Name_of_movie                                                                 \n",
       "Scoob!                                               2020     5.8        43   \n",
       "Onward                                               2020     7.5        61   \n",
       "The Lion King                                        2019     6.9        55   \n",
       "Frozen II                                            2019     6.9        64   \n",
       "Trolls World Tour                                    2020     6.1        51   \n",
       "Spider-Man: Into the Spider-Verse                    2018     8.4        87   \n",
       "Sen to Chihiro no kamikakushi                        2001     8.6        96   \n",
       "Up                                                   2009     8.2        88   \n",
       "Moana                                                2016     7.6        81   \n",
       "The Addams Family                                    2019     5.8        46   \n",
       "Toy Story 4                                          2019     7.8        84   \n",
       "The SpongeBob Movie: Sponge on the Run               2020     NaN       NaN   \n",
       "Tenki no ko                                          2019     7.6        72   \n",
       "Zootopia                                             2016     8.0        78   \n",
       "Frozen                                               2013     7.4        75   \n",
       "The Lion King                                        1994     8.5        88   \n",
       "Hauru no ugoku shiro                                 2004     8.2        80   \n",
       "The Willoughbys                                      2020     6.4        68   \n",
       "Space Jam                                            1996     6.4        59   \n",
       "Kimi no na wa.                                       2016     8.4        79   \n",
       "Fantastic Mr. Fox                                    2009     7.9        83   \n",
       "Coco                                                 2017     8.4        81   \n",
       "Mononoke-hime                                        1997     8.4        76   \n",
       "Cars                                                 2006     7.1        73   \n",
       "Spies in Disguise                                    2019     6.8        54   \n",
       "Hercules                                             1997     7.3        74   \n",
       "Ratatouille                                          2007     8.0        96   \n",
       "Inside Out                                           2015     8.1        94   \n",
       "Mulan                                                1998     7.6        71   \n",
       "Tangled                                              2010     7.7        71   \n",
       "Sing                                                 2016     7.1        59   \n",
       "The Incredibles                                      2004     8.0        90   \n",
       "Toy Story                                            1995     8.3        95   \n",
       "Incredibles 2                                        2018     7.6        80   \n",
       "Mortal Kombat Legends: Scorpion's Revenge            2020     7.5       NaN   \n",
       "Ralph Breaks the Internet                            2018     7.1        71   \n",
       "A Bug's Life                                         1998     7.2        77   \n",
       "Finding Nemo                                         2003     8.1        90   \n",
       "Tonari no Totoro                                     1988     8.2        86   \n",
       "The Secret Life of Pets 2                            2019     6.5        55   \n",
       "Red Shoes and the Seven Dwarfs                       2019     6.3       NaN   \n",
       "The Princess and the Frog                            2009     7.1        73   \n",
       "WALL·E                                               2008     8.4        95   \n",
       "Shrek                                                2001     7.8        84   \n",
       "Aladdin                                              1992     8.0        86   \n",
       "Monsters, Inc.                                       2001     8.0        79   \n",
       "Enchanted                                            2007     7.0        75   \n",
       "Despicable Me                                        2010     7.6        72   \n",
       "Big Hero 6                                           2014     7.8        74   \n",
       "Ne Zha zhi mo tong jiang shi                         2019     7.5        54   \n",
       "\n",
       "                                             Votes  \n",
       "Name_of_movie                                       \n",
       "Scoob!                                       8,507  \n",
       "Onward                                      63,242  \n",
       "The Lion King                              193,072  \n",
       "Frozen II                                  111,328  \n",
       "Trolls World Tour                            8,443  \n",
       "Spider-Man: Into the Spider-Verse          321,229  \n",
       "Sen to Chihiro no kamikakushi              614,252  \n",
       "Up                                         901,713  \n",
       "Moana                                      254,243  \n",
       "The Addams Family                           20,870  \n",
       "Toy Story 4                                181,598  \n",
       "The SpongeBob Movie: Sponge on the Run         NaN  \n",
       "Tenki no ko                                 12,258  \n",
       "Zootopia                                   415,338  \n",
       "Frozen                                     555,580  \n",
       "The Lion King                              906,563  \n",
       "Hauru no ugoku shiro                       311,175  \n",
       "The Willoughbys                              9,094  \n",
       "Space Jam                                  156,661  \n",
       "Kimi no na wa.                             170,494  \n",
       "Fantastic Mr. Fox                          190,040  \n",
       "Coco                                       341,563  \n",
       "Mononoke-hime                              324,092  \n",
       "Cars                                       353,633  \n",
       "Spies in Disguise                           24,182  \n",
       "Hercules                                   197,436  \n",
       "Ratatouille                                618,050  \n",
       "Inside Out                                 584,111  \n",
       "Mulan                                      240,997  \n",
       "Tangled                                    391,888  \n",
       "Sing                                       127,648  \n",
       "The Incredibles                            637,110  \n",
       "Toy Story                                  855,065  \n",
       "Incredibles 2                              234,648  \n",
       "Mortal Kombat Legends: Scorpion's Revenge    7,793  \n",
       "Ralph Breaks the Internet                  120,362  \n",
       "A Bug's Life                               259,179  \n",
       "Finding Nemo                               919,172  \n",
       "Tonari no Totoro                           271,249  \n",
       "The Secret Life of Pets 2                   44,103  \n",
       "Red Shoes and the Seven Dwarfs               1,270  \n",
       "The Princess and the Frog                  118,296  \n",
       "WALL·E                                     964,517  \n",
       "Shrek                                      594,740  \n",
       "Aladdin                                    358,912  \n",
       "Monsters, Inc.                             787,201  \n",
       "Enchanted                                  172,459  \n",
       "Despicable Me                              487,253  \n",
       "Big Hero 6                                 396,599  \n",
       "Ne Zha zhi mo tong jiang shi                 4,438  "
      ]
     },
     "execution_count": 250,
     "metadata": {},
     "output_type": "execute_result"
    }
   ],
   "source": [
    "df"
   ]
  },
  {
   "cell_type": "code",
   "execution_count": 273,
   "metadata": {},
   "outputs": [
    {
     "data": {
      "text/html": [
       "<img src=\"https://m.media-amazon.com/images/M/MV5BNTM5YWZiMzQtNDQxZS00ODI0LWJjNTQtZmQ3OWU3Njg4NWYyXkEyXkFqcGdeQXVyNzc4NTU3Njg@._V1_UX67_CR0,0,67,98_AL_.jpg\"/>"
      ],
      "text/plain": [
       "<IPython.core.display.Image object>"
      ]
     },
     "metadata": {},
     "output_type": "display_data"
    },
    {
     "data": {
      "text/html": [
       "<img src=\"https://m.media-amazon.com/images/M/MV5BMTZlYzk3NzQtMmViYS00YWZmLTk5ZTEtNWE0NGVjM2MzYWU1XkEyXkFqcGdeQXVyNDg4NjY5OTQ@._V1_UX67_CR0,0,67,98_AL_.jpg\"/>"
      ],
      "text/plain": [
       "<IPython.core.display.Image object>"
      ]
     },
     "metadata": {},
     "output_type": "display_data"
    },
    {
     "data": {
      "text/html": [
       "<img src=\"https://m.media-amazon.com/images/M/MV5BMjIwMjE1Nzc4NV5BMl5BanBnXkFtZTgwNDg4OTA1NzM@._V1_UX67_CR0,0,67,98_AL_.jpg\"/>"
      ],
      "text/plain": [
       "<IPython.core.display.Image object>"
      ]
     },
     "metadata": {},
     "output_type": "display_data"
    },
    {
     "data": {
      "text/html": [
       "<img src=\"https://m.media-amazon.com/images/M/MV5BMjA0YjYyZGMtN2U0Ni00YmY4LWJkZTItYTMyMjY3NGYyMTJkXkEyXkFqcGdeQXVyNDg4NjY5OTQ@._V1_UX67_CR0,0,67,98_AL_.jpg\"/>"
      ],
      "text/plain": [
       "<IPython.core.display.Image object>"
      ]
     },
     "metadata": {},
     "output_type": "display_data"
    },
    {
     "data": {
      "text/html": [
       "<img src=\"https://m.media-amazon.com/images/M/MV5BMTI5NmViY2YtNDk5NC00NjY2LWFlNGYtOGEwNzY1MTZmMjFmXkEyXkFqcGdeQXVyMTMxODk2OTU@._V1_UX67_CR0,0,67,98_AL_.jpg\"/>"
      ],
      "text/plain": [
       "<IPython.core.display.Image object>"
      ]
     },
     "metadata": {},
     "output_type": "display_data"
    },
    {
     "data": {
      "text/html": [
       "<img src=\"https://m.media-amazon.com/images/M/MV5BMjMwNDkxMTgzOF5BMl5BanBnXkFtZTgwNTkwNTQ3NjM@._V1_UX67_CR0,0,67,98_AL_.jpg\"/>"
      ],
      "text/plain": [
       "<IPython.core.display.Image object>"
      ]
     },
     "metadata": {},
     "output_type": "display_data"
    },
    {
     "data": {
      "text/html": [
       "<img src=\"https://m.media-amazon.com/images/M/MV5BMjlmZmI5MDctNDE2YS00YWE0LWE5ZWItZDBhYWQ0NTcxNWRhXkEyXkFqcGdeQXVyMTMxODk2OTU@._V1_UX67_CR0,0,67,98_AL_.jpg\"/>"
      ],
      "text/plain": [
       "<IPython.core.display.Image object>"
      ]
     },
     "metadata": {},
     "output_type": "display_data"
    },
    {
     "data": {
      "text/html": [
       "<img src=\"https://m.media-amazon.com/images/M/MV5BMTk3NDE2NzI4NF5BMl5BanBnXkFtZTgwNzE1MzEyMTE@._V1_UX67_CR0,0,67,98_AL_.jpg\"/>"
      ],
      "text/plain": [
       "<IPython.core.display.Image object>"
      ]
     },
     "metadata": {},
     "output_type": "display_data"
    },
    {
     "data": {
      "text/html": [
       "<img src=\"https://m.media-amazon.com/images/M/MV5BMjI4MzU5NTExNF5BMl5BanBnXkFtZTgwNzY1MTEwMDI@._V1_UX67_CR0,0,67,98_AL_.jpg\"/>"
      ],
      "text/plain": [
       "<IPython.core.display.Image object>"
      ]
     },
     "metadata": {},
     "output_type": "display_data"
    },
    {
     "data": {
      "text/html": [
       "<img src=\"https://m.media-amazon.com/images/M/MV5BODBjOTAzZmMtNGJkOC00M2M3LWI1MTctZjZlMzdiODBkMzc0XkEyXkFqcGdeQXVyMjM4NTM5NDY@._V1_UX67_CR0,0,67,98_AL_.jpg\"/>"
      ],
      "text/plain": [
       "<IPython.core.display.Image object>"
      ]
     },
     "metadata": {},
     "output_type": "display_data"
    },
    {
     "data": {
      "text/html": [
       "<img src=\"https://m.media-amazon.com/images/M/MV5BMTYzMDM4NzkxOV5BMl5BanBnXkFtZTgwNzM1Mzg2NzM@._V1_UX67_CR0,0,67,98_AL_.jpg\"/>"
      ],
      "text/plain": [
       "<IPython.core.display.Image object>"
      ]
     },
     "metadata": {},
     "output_type": "display_data"
    },
    {
     "data": {
      "text/html": [
       "<img src=\"https://m.media-amazon.com/images/M/MV5BODIwMmQxNDktOWZjZC00NWI4LTg1NjktMGViOTE4ZTA4ZGY5XkEyXkFqcGdeQXVyNjg5MjU3NjE@._V1_UX67_CR0,0,67,98_AL_.jpg\"/>"
      ],
      "text/plain": [
       "<IPython.core.display.Image object>"
      ]
     },
     "metadata": {},
     "output_type": "display_data"
    },
    {
     "data": {
      "text/html": [
       "<img src=\"https://m.media-amazon.com/images/M/MV5BNzE4ZDEzOGUtYWFjNC00ODczLTljOGQtZGNjNzhjNjdjNjgzXkEyXkFqcGdeQXVyNzE5ODMwNzI@._V1_UX67_CR0,0,67,98_AL_.jpg\"/>"
      ],
      "text/plain": [
       "<IPython.core.display.Image object>"
      ]
     },
     "metadata": {},
     "output_type": "display_data"
    },
    {
     "data": {
      "text/html": [
       "<img src=\"https://m.media-amazon.com/images/M/MV5BOTMyMjEyNzIzMV5BMl5BanBnXkFtZTgwNzIyNjU0NzE@._V1_UX67_CR0,0,67,98_AL_.jpg\"/>"
      ],
      "text/plain": [
       "<IPython.core.display.Image object>"
      ]
     },
     "metadata": {},
     "output_type": "display_data"
    },
    {
     "data": {
      "text/html": [
       "<img src=\"https://m.media-amazon.com/images/M/MV5BMTQ1MjQwMTE5OF5BMl5BanBnXkFtZTgwNjk3MTcyMDE@._V1_UX67_CR0,0,67,98_AL_.jpg\"/>"
      ],
      "text/plain": [
       "<IPython.core.display.Image object>"
      ]
     },
     "metadata": {},
     "output_type": "display_data"
    },
    {
     "data": {
      "text/html": [
       "<img src=\"https://m.media-amazon.com/images/M/MV5BYTYxNGMyZTYtMjE3MS00MzNjLWFjNmYtMDk3N2FmM2JiM2M1XkEyXkFqcGdeQXVyNjY5NDU4NzI@._V1_UX67_CR0,0,67,98_AL_.jpg\"/>"
      ],
      "text/plain": [
       "<IPython.core.display.Image object>"
      ]
     },
     "metadata": {},
     "output_type": "display_data"
    },
    {
     "data": {
      "text/html": [
       "<img src=\"https://m.media-amazon.com/images/M/MV5BNmM4YTFmMmItMGE3Yy00MmRkLTlmZGEtMzZlOTQzYjk3MzA2XkEyXkFqcGdeQXVyMTMxODk2OTU@._V1_UX67_CR0,0,67,98_AL_.jpg\"/>"
      ],
      "text/plain": [
       "<IPython.core.display.Image object>"
      ]
     },
     "metadata": {},
     "output_type": "display_data"
    },
    {
     "data": {
      "text/html": [
       "<img src=\"https://m.media-amazon.com/images/M/MV5BZGNlMzljOWEtMjdiYS00ZjQwLTg2M2UtMTYwNDgyZjQ4MDk5XkEyXkFqcGdeQXVyMTMxODk2OTU@._V1_UX67_CR0,0,67,98_AL_.jpg\"/>"
      ],
      "text/plain": [
       "<IPython.core.display.Image object>"
      ]
     },
     "metadata": {},
     "output_type": "display_data"
    },
    {
     "data": {
      "text/html": [
       "<img src=\"https://m.media-amazon.com/images/M/MV5BMDgyZTI2YmYtZmI4ZC00MzE0LWIxZWYtMWRlZWYxNjliNTJjXkEyXkFqcGdeQXVyNjY5NDU4NzI@._V1_UY98_CR2,0,67,98_AL_.jpg\"/>"
      ],
      "text/plain": [
       "<IPython.core.display.Image object>"
      ]
     },
     "metadata": {},
     "output_type": "display_data"
    },
    {
     "data": {
      "text/html": [
       "<img src=\"https://m.media-amazon.com/images/M/MV5BODRmZDVmNzUtZDA4ZC00NjhkLWI2M2UtN2M0ZDIzNDcxYThjL2ltYWdlXkEyXkFqcGdeQXVyNTk0MzMzODA@._V1_UX67_CR0,0,67,98_AL_.jpg\"/>"
      ],
      "text/plain": [
       "<IPython.core.display.Image object>"
      ]
     },
     "metadata": {},
     "output_type": "display_data"
    },
    {
     "data": {
      "text/html": [
       "<img src=\"https://m.media-amazon.com/images/M/MV5BOGUwYTU4NGEtNDM4MS00NDRjLTkwNmQtOTkwMWMyMjhmMjdlXkEyXkFqcGdeQXVyMTMxODk2OTU@._V1_UX67_CR0,0,67,98_AL_.jpg\"/>"
      ],
      "text/plain": [
       "<IPython.core.display.Image object>"
      ]
     },
     "metadata": {},
     "output_type": "display_data"
    },
    {
     "data": {
      "text/html": [
       "<img src=\"https://m.media-amazon.com/images/M/MV5BYjQ5NjM0Y2YtNjZkNC00ZDhkLWJjMWItN2QyNzFkMDE3ZjAxXkEyXkFqcGdeQXVyODIxMzk5NjA@._V1_UY98_CR1,0,67,98_AL_.jpg\"/>"
      ],
      "text/plain": [
       "<IPython.core.display.Image object>"
      ]
     },
     "metadata": {},
     "output_type": "display_data"
    },
    {
     "data": {
      "text/html": [
       "<img src=\"https://m.media-amazon.com/images/M/MV5BNGIzY2IzODQtNThmMi00ZDE4LWI5YzAtNzNlZTM1ZjYyYjUyXkEyXkFqcGdeQXVyODEzNjM5OTQ@._V1_UX67_CR0,0,67,98_AL_.jpg\"/>"
      ],
      "text/plain": [
       "<IPython.core.display.Image object>"
      ]
     },
     "metadata": {},
     "output_type": "display_data"
    },
    {
     "data": {
      "text/html": [
       "<img src=\"https://m.media-amazon.com/images/M/MV5BMTg5NzY0MzA2MV5BMl5BanBnXkFtZTYwNDc3NTc2._V1_UX67_CR0,0,67,98_AL_.jpg\"/>"
      ],
      "text/plain": [
       "<IPython.core.display.Image object>"
      ]
     },
     "metadata": {},
     "output_type": "display_data"
    },
    {
     "data": {
      "text/html": [
       "<img src=\"https://m.media-amazon.com/images/M/MV5BNzg1MzM3OWUtNjgzZC00NjMzLWE1NzAtOThiMDgyMjhhZDBhXkEyXkFqcGdeQXVyODkzNTgxMDg@._V1_UX67_CR0,0,67,98_AL_.jpg\"/>"
      ],
      "text/plain": [
       "<IPython.core.display.Image object>"
      ]
     },
     "metadata": {},
     "output_type": "display_data"
    },
    {
     "data": {
      "text/html": [
       "<img src=\"https://m.media-amazon.com/images/M/MV5BZDcwYjEyNWItMGI1Mi00MjI1LWIyMDEtMTQ4YjhkNjM4NDU3XkEyXkFqcGdeQXVyNDUyOTg3Njg@._V1_UX67_CR0,0,67,98_AL_.jpg\"/>"
      ],
      "text/plain": [
       "<IPython.core.display.Image object>"
      ]
     },
     "metadata": {},
     "output_type": "display_data"
    },
    {
     "data": {
      "text/html": [
       "<img src=\"https://m.media-amazon.com/images/M/MV5BMTMzODU0NTkxMF5BMl5BanBnXkFtZTcwMjQ4MzMzMw@@._V1_UX67_CR0,0,67,98_AL_.jpg\"/>"
      ],
      "text/plain": [
       "<IPython.core.display.Image object>"
      ]
     },
     "metadata": {},
     "output_type": "display_data"
    },
    {
     "data": {
      "text/html": [
       "<img src=\"https://m.media-amazon.com/images/M/MV5BOTgxMDQwMDk0OF5BMl5BanBnXkFtZTgwNjU5OTg2NDE@._V1_UX67_CR0,0,67,98_AL_.jpg\"/>"
      ],
      "text/plain": [
       "<IPython.core.display.Image object>"
      ]
     },
     "metadata": {},
     "output_type": "display_data"
    },
    {
     "data": {
      "text/html": [
       "<img src=\"https://m.media-amazon.com/images/M/MV5BODkxNGQ1NWYtNzg0Ny00Yjg3LThmZTItMjE2YjhmZTQ0ODY5XkEyXkFqcGdeQXVyMTQxNzMzNDI@._V1_UX67_CR0,0,67,98_AL_.jpg\"/>"
      ],
      "text/plain": [
       "<IPython.core.display.Image object>"
      ]
     },
     "metadata": {},
     "output_type": "display_data"
    },
    {
     "data": {
      "text/html": [
       "<img src=\"https://m.media-amazon.com/images/M/MV5BMTAxNDYxMjg0MjNeQTJeQWpwZ15BbWU3MDcyNTk2OTM@._V1_UX67_CR0,0,67,98_AL_.jpg\"/>"
      ],
      "text/plain": [
       "<IPython.core.display.Image object>"
      ]
     },
     "metadata": {},
     "output_type": "display_data"
    },
    {
     "data": {
      "text/html": [
       "<img src=\"https://m.media-amazon.com/images/M/MV5BMTYzODYzODU2Ml5BMl5BanBnXkFtZTgwNTc1MTA2NzE@._V1_UX67_CR0,0,67,98_AL_.jpg\"/>"
      ],
      "text/plain": [
       "<IPython.core.display.Image object>"
      ]
     },
     "metadata": {},
     "output_type": "display_data"
    },
    {
     "data": {
      "text/html": [
       "<img src=\"https://m.media-amazon.com/images/M/MV5BMTY5OTU0OTc2NV5BMl5BanBnXkFtZTcwMzU4MDcyMQ@@._V1_UX67_CR0,0,67,98_AL_.jpg\"/>"
      ],
      "text/plain": [
       "<IPython.core.display.Image object>"
      ]
     },
     "metadata": {},
     "output_type": "display_data"
    },
    {
     "data": {
      "text/html": [
       "<img src=\"https://m.media-amazon.com/images/M/MV5BMDU2ZWJlMjktMTRhMy00ZTA5LWEzNDgtYmNmZTEwZTViZWJkXkEyXkFqcGdeQXVyNDQ2OTk4MzI@._V1_UX67_CR0,0,67,98_AL_.jpg\"/>"
      ],
      "text/plain": [
       "<IPython.core.display.Image object>"
      ]
     },
     "metadata": {},
     "output_type": "display_data"
    },
    {
     "data": {
      "text/html": [
       "<img src=\"https://m.media-amazon.com/images/M/MV5BMTEzNzY0OTg0NTdeQTJeQWpwZ15BbWU4MDU3OTg3MjUz._V1_UX67_CR0,0,67,98_AL_.jpg\"/>"
      ],
      "text/plain": [
       "<IPython.core.display.Image object>"
      ]
     },
     "metadata": {},
     "output_type": "display_data"
    },
    {
     "data": {
      "text/html": [
       "<img src=\"https://m.media-amazon.com/images/M/MV5BNzY3YTUwYTQtNjkwNy00OTAyLWE0OWEtYmE3MGIyOWZkODY1XkEyXkFqcGdeQXVyMjkyNzYwMTc@._V1_UX67_CR0,0,67,98_AL_.jpg\"/>"
      ],
      "text/plain": [
       "<IPython.core.display.Image object>"
      ]
     },
     "metadata": {},
     "output_type": "display_data"
    },
    {
     "data": {
      "text/html": [
       "<img src=\"https://m.media-amazon.com/images/M/MV5BMTYyNzEyNDAzOV5BMl5BanBnXkFtZTgwNTk3NDczNjM@._V1_UX67_CR0,0,67,98_AL_.jpg\"/>"
      ],
      "text/plain": [
       "<IPython.core.display.Image object>"
      ]
     },
     "metadata": {},
     "output_type": "display_data"
    },
    {
     "data": {
      "text/html": [
       "<img src=\"https://m.media-amazon.com/images/M/MV5BNThmZGY4NzgtMTM4OC00NzNkLWEwNmEtMjdhMGY5YTc1NDE4XkEyXkFqcGdeQXVyMTQxNzMzNDI@._V1_UX67_CR0,0,67,98_AL_.jpg\"/>"
      ],
      "text/plain": [
       "<IPython.core.display.Image object>"
      ]
     },
     "metadata": {},
     "output_type": "display_data"
    },
    {
     "data": {
      "text/html": [
       "<img src=\"https://m.media-amazon.com/images/M/MV5BZTAzNWZlNmUtZDEzYi00ZjA5LWIwYjEtZGM1NWE1MjE4YWRhXkEyXkFqcGdeQXVyNjU0OTQ0OTY@._V1_UX67_CR0,0,67,98_AL_.jpg\"/>"
      ],
      "text/plain": [
       "<IPython.core.display.Image object>"
      ]
     },
     "metadata": {},
     "output_type": "display_data"
    },
    {
     "data": {
      "text/html": [
       "<img src=\"https://m.media-amazon.com/images/M/MV5BYzJjMTYyMjQtZDI0My00ZjE2LTkyNGYtOTllNGQxNDMyZjE0XkEyXkFqcGdeQXVyMTMxODk2OTU@._V1_UY98_CR1,0,67,98_AL_.jpg\"/>"
      ],
      "text/plain": [
       "<IPython.core.display.Image object>"
      ]
     },
     "metadata": {},
     "output_type": "display_data"
    },
    {
     "data": {
      "text/html": [
       "<img src=\"https://m.media-amazon.com/images/M/MV5BMzdlMWQzZmItMDA5Ny00MGFjLTk0MDAtYjgzMmMyNTEwMzdhXkEyXkFqcGdeQXVyODQzNTE3ODc@._V1_UX67_CR0,0,67,98_AL_.jpg\"/>"
      ],
      "text/plain": [
       "<IPython.core.display.Image object>"
      ]
     },
     "metadata": {},
     "output_type": "display_data"
    },
    {
     "data": {
      "text/html": [
       "<img src=\"https://m.media-amazon.com/images/M/MV5BZjVlM2E5MzAtMjcyZi00NmViLTkyOGYtODliYzM4ZDNiZjJhXkEyXkFqcGdeQXVyNjQxMDIzMjY@._V1_UY98_CR1,0,67,98_AL_.jpg\"/>"
      ],
      "text/plain": [
       "<IPython.core.display.Image object>"
      ]
     },
     "metadata": {},
     "output_type": "display_data"
    },
    {
     "data": {
      "text/html": [
       "<img src=\"https://m.media-amazon.com/images/M/MV5BMjEyOTQ5NzAzNl5BMl5BanBnXkFtZTcwMTcyNTU1Mg@@._V1_UX67_CR0,0,67,98_AL_.jpg\"/>"
      ],
      "text/plain": [
       "<IPython.core.display.Image object>"
      ]
     },
     "metadata": {},
     "output_type": "display_data"
    },
    {
     "data": {
      "text/html": [
       "<img src=\"https://m.media-amazon.com/images/M/MV5BMjExMTg5OTU0NF5BMl5BanBnXkFtZTcwMjMxMzMzMw@@._V1_UX67_CR0,0,67,98_AL_.jpg\"/>"
      ],
      "text/plain": [
       "<IPython.core.display.Image object>"
      ]
     },
     "metadata": {},
     "output_type": "display_data"
    },
    {
     "data": {
      "text/html": [
       "<img src=\"https://m.media-amazon.com/images/M/MV5BOGZhM2FhNTItODAzNi00YjA0LWEyN2UtNjJlYWQzYzU1MDg5L2ltYWdlL2ltYWdlXkEyXkFqcGdeQXVyMTQxNzMzNDI@._V1_UX67_CR0,0,67,98_AL_.jpg\"/>"
      ],
      "text/plain": [
       "<IPython.core.display.Image object>"
      ]
     },
     "metadata": {},
     "output_type": "display_data"
    },
    {
     "data": {
      "text/html": [
       "<img src=\"https://m.media-amazon.com/images/M/MV5BY2Q2NDI1MjUtM2Q5ZS00MTFlLWJiYWEtNTZmNjQ3OGJkZDgxXkEyXkFqcGdeQXVyNTI4MjkwNjA@._V1_UX67_CR0,0,67,98_AL_.jpg\"/>"
      ],
      "text/plain": [
       "<IPython.core.display.Image object>"
      ]
     },
     "metadata": {},
     "output_type": "display_data"
    },
    {
     "data": {
      "text/html": [
       "<img src=\"https://m.media-amazon.com/images/M/MV5BMTY1NTI0ODUyOF5BMl5BanBnXkFtZTgwNTEyNjQ0MDE@._V1_UX67_CR0,0,67,98_AL_.jpg\"/>"
      ],
      "text/plain": [
       "<IPython.core.display.Image object>"
      ]
     },
     "metadata": {},
     "output_type": "display_data"
    },
    {
     "data": {
      "text/html": [
       "<img src=\"https://m.media-amazon.com/images/M/MV5BMjE4NDQ2Mjc0OF5BMl5BanBnXkFtZTcwNzQ2NDE1MQ@@._V1_UX67_CR0,0,67,98_AL_.jpg\"/>"
      ],
      "text/plain": [
       "<IPython.core.display.Image object>"
      ]
     },
     "metadata": {},
     "output_type": "display_data"
    },
    {
     "data": {
      "text/html": [
       "<img src=\"https://m.media-amazon.com/images/M/MV5BMTY3NjY0MTQ0Nl5BMl5BanBnXkFtZTcwMzQ2MTc0Mw@@._V1_UX67_CR0,0,67,98_AL_.jpg\"/>"
      ],
      "text/plain": [
       "<IPython.core.display.Image object>"
      ]
     },
     "metadata": {},
     "output_type": "display_data"
    },
    {
     "data": {
      "text/html": [
       "<img src=\"https://m.media-amazon.com/images/M/MV5BMDliOTIzNmUtOTllOC00NDU3LWFiNjYtMGM0NDc1YTMxNjYxXkEyXkFqcGdeQXVyNTM3NzExMDQ@._V1_UY98_CR1,0,67,98_AL_.jpg\"/>"
      ],
      "text/plain": [
       "<IPython.core.display.Image object>"
      ]
     },
     "metadata": {},
     "output_type": "display_data"
    },
    {
     "data": {
      "text/html": [
       "<img src=\"https://m.media-amazon.com/images/M/MV5BY2E4MGUwMmUtNzUxMS00Y2MyLTg5NmItNTU1MTMwZjYxNTlkXkEyXkFqcGdeQXVyMTMxODk2OTU@._V1_UY98_CR0,0,67,98_AL_.jpg\"/>"
      ],
      "text/plain": [
       "<IPython.core.display.Image object>"
      ]
     },
     "metadata": {},
     "output_type": "display_data"
    }
   ],
   "source": [
    "for i in range(len(lists)):\n",
    "    display(Image(url =lists[i].find('img')['loadlate']))"
   ]
  },
  {
   "cell_type": "code",
   "execution_count": null,
   "metadata": {},
   "outputs": [],
   "source": []
  }
 ],
 "metadata": {
  "kernelspec": {
   "display_name": "Python 3.7.4 64-bit ('base': conda)",
   "language": "python",
   "name": "python37464bitbaseconda1eb60c76e02b4ba9a2a4c9ec9b1fa267"
  },
  "language_info": {
   "codemirror_mode": {
    "name": "ipython",
    "version": 3
   },
   "file_extension": ".py",
   "mimetype": "text/x-python",
   "name": "python",
   "nbconvert_exporter": "python",
   "pygments_lexer": "ipython3",
   "version": "3.7.4"
  }
 },
 "nbformat": 4,
 "nbformat_minor": 4
}
