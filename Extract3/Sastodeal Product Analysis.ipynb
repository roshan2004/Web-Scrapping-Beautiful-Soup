{
 "cells": [
  {
   "cell_type": "code",
   "execution_count": 1,
   "metadata": {},
   "outputs": [],
   "source": [
    "import requests\n",
    "from bs4 import BeautifulSoup\n",
    "\n",
    "import matplotlib.pyplot as plt\n",
    "from IPython.display import Image\n",
    "from IPython.display import display"
   ]
  },
  {
   "cell_type": "code",
   "execution_count": 2,
   "metadata": {},
   "outputs": [],
   "source": [
    "url = requests.get('https://www.sastodeal.com/home-essentials/food-essentials.html')\n",
    "soup = BeautifulSoup(url.content, 'lxml')\n"
   ]
  },
  {
   "cell_type": "code",
   "execution_count": 3,
   "metadata": {},
   "outputs": [],
   "source": [
    "images = []\n",
    "lists =soup.find_all('li', class_=\"item product product-item\")\n",
    "for image in lists:\n",
    "    images.append(image.img['src'])\n",
    "    \n",
    "    "
   ]
  },
  {
   "cell_type": "code",
   "execution_count": 13,
   "metadata": {},
   "outputs": [
    {
     "data": {
      "text/plain": [
       "['https://www.sastodeal.com/media/catalog/product/5107/RN-SP-KM-03/3.png?quality=80&bg-color=255,255,255&fit=bounds&height=440&width=440&canvas=440:440',\n",
       " 'https://www.sastodeal.com/media/catalog/product/c/u/curry_powder_1.jpg?quality=80&bg-color=255,255,255&fit=bounds&height=440&width=440&canvas=440:440',\n",
       " 'https://www.sastodeal.com/media/catalog/product/g/a/garam_masala.jpg?quality=80&bg-color=255,255,255&fit=bounds&height=440&width=440&canvas=440:440',\n",
       " 'https://www.sastodeal.com/media/catalog/product/c/h/chiken_masala.jpg?quality=80&bg-color=255,255,255&fit=bounds&height=440&width=440&canvas=440:440',\n",
       " 'https://www.sastodeal.com/media/catalog/product/m/e/meat_masala_1.jpg?quality=80&bg-color=255,255,255&fit=bounds&height=440&width=440&canvas=440:440',\n",
       " 'https://www.sastodeal.com/media/catalog/product/4179/SB-CEN-4/4.jpg?quality=80&bg-color=255,255,255&fit=bounds&height=440&width=440&canvas=440:440',\n",
       " 'https://www.sastodeal.com/media/catalog/product/b/i/biryani.jpg?quality=80&bg-color=255,255,255&fit=bounds&height=440&width=440&canvas=440:440',\n",
       " 'https://www.sastodeal.com/media/catalog/product/p/e/penny.jpg?quality=80&bg-color=255,255,255&fit=bounds&height=440&width=440&canvas=440:440',\n",
       " 'https://www.sastodeal.com/media/catalog/product/c/e/century_potato.jpg?quality=80&bg-color=255,255,255&fit=bounds&height=440&width=440&canvas=440:440',\n",
       " 'https://www.sastodeal.com/media/catalog/product/c/o/cornaider.jpg?quality=80&bg-color=255,255,255&fit=bounds&height=440&width=440&canvas=440:440',\n",
       " 'https://www.sastodeal.com/media/catalog/product/t/u/turmeric_powder.jpg?quality=80&bg-color=255,255,255&fit=bounds&height=440&width=440&canvas=440:440',\n",
       " 'https://www.sastodeal.com/media/catalog/product/c/u/cumin_powder.jpg?quality=80&bg-color=255,255,255&fit=bounds&height=440&width=440&canvas=440:440']"
      ]
     },
     "execution_count": 13,
     "metadata": {},
     "output_type": "execute_result"
    }
   ],
   "source": [
    "images"
   ]
  },
  {
   "cell_type": "code",
   "execution_count": 4,
   "metadata": {},
   "outputs": [
    {
     "data": {
      "text/html": [
       "<img src=\"https://www.sastodeal.com/media/catalog/product/5107/RN-SP-KM-03/3.png?quality=80&bg-color=255,255,255&fit=bounds&height=440&width=440&canvas=440:440\"/>"
      ],
      "text/plain": [
       "<IPython.core.display.Image object>"
      ]
     },
     "metadata": {},
     "output_type": "display_data"
    },
    {
     "data": {
      "text/html": [
       "<img src=\"https://www.sastodeal.com/media/catalog/product/c/u/curry_powder_1.jpg?quality=80&bg-color=255,255,255&fit=bounds&height=440&width=440&canvas=440:440\"/>"
      ],
      "text/plain": [
       "<IPython.core.display.Image object>"
      ]
     },
     "metadata": {},
     "output_type": "display_data"
    },
    {
     "data": {
      "text/html": [
       "<img src=\"https://www.sastodeal.com/media/catalog/product/g/a/garam_masala.jpg?quality=80&bg-color=255,255,255&fit=bounds&height=440&width=440&canvas=440:440\"/>"
      ],
      "text/plain": [
       "<IPython.core.display.Image object>"
      ]
     },
     "metadata": {},
     "output_type": "display_data"
    },
    {
     "data": {
      "text/html": [
       "<img src=\"https://www.sastodeal.com/media/catalog/product/c/h/chiken_masala.jpg?quality=80&bg-color=255,255,255&fit=bounds&height=440&width=440&canvas=440:440\"/>"
      ],
      "text/plain": [
       "<IPython.core.display.Image object>"
      ]
     },
     "metadata": {},
     "output_type": "display_data"
    },
    {
     "data": {
      "text/html": [
       "<img src=\"https://www.sastodeal.com/media/catalog/product/m/e/meat_masala_1.jpg?quality=80&bg-color=255,255,255&fit=bounds&height=440&width=440&canvas=440:440\"/>"
      ],
      "text/plain": [
       "<IPython.core.display.Image object>"
      ]
     },
     "metadata": {},
     "output_type": "display_data"
    },
    {
     "data": {
      "text/html": [
       "<img src=\"https://www.sastodeal.com/media/catalog/product/4179/SB-CEN-4/4.jpg?quality=80&bg-color=255,255,255&fit=bounds&height=440&width=440&canvas=440:440\"/>"
      ],
      "text/plain": [
       "<IPython.core.display.Image object>"
      ]
     },
     "metadata": {},
     "output_type": "display_data"
    },
    {
     "data": {
      "text/html": [
       "<img src=\"https://www.sastodeal.com/media/catalog/product/b/i/biryani.jpg?quality=80&bg-color=255,255,255&fit=bounds&height=440&width=440&canvas=440:440\"/>"
      ],
      "text/plain": [
       "<IPython.core.display.Image object>"
      ]
     },
     "metadata": {},
     "output_type": "display_data"
    },
    {
     "data": {
      "text/html": [
       "<img src=\"https://www.sastodeal.com/media/catalog/product/p/e/penny.jpg?quality=80&bg-color=255,255,255&fit=bounds&height=440&width=440&canvas=440:440\"/>"
      ],
      "text/plain": [
       "<IPython.core.display.Image object>"
      ]
     },
     "metadata": {},
     "output_type": "display_data"
    },
    {
     "data": {
      "text/html": [
       "<img src=\"https://www.sastodeal.com/media/catalog/product/c/e/century_potato.jpg?quality=80&bg-color=255,255,255&fit=bounds&height=440&width=440&canvas=440:440\"/>"
      ],
      "text/plain": [
       "<IPython.core.display.Image object>"
      ]
     },
     "metadata": {},
     "output_type": "display_data"
    },
    {
     "data": {
      "text/html": [
       "<img src=\"https://www.sastodeal.com/media/catalog/product/c/o/cornaider.jpg?quality=80&bg-color=255,255,255&fit=bounds&height=440&width=440&canvas=440:440\"/>"
      ],
      "text/plain": [
       "<IPython.core.display.Image object>"
      ]
     },
     "metadata": {},
     "output_type": "display_data"
    },
    {
     "data": {
      "text/html": [
       "<img src=\"https://www.sastodeal.com/media/catalog/product/t/u/turmeric_powder.jpg?quality=80&bg-color=255,255,255&fit=bounds&height=440&width=440&canvas=440:440\"/>"
      ],
      "text/plain": [
       "<IPython.core.display.Image object>"
      ]
     },
     "metadata": {},
     "output_type": "display_data"
    },
    {
     "data": {
      "text/html": [
       "<img src=\"https://www.sastodeal.com/media/catalog/product/c/u/cumin_powder.jpg?quality=80&bg-color=255,255,255&fit=bounds&height=440&width=440&canvas=440:440\"/>"
      ],
      "text/plain": [
       "<IPython.core.display.Image object>"
      ]
     },
     "metadata": {},
     "output_type": "display_data"
    }
   ],
   "source": [
    "\n",
    "for i in images:\n",
    "    display(Image(url = i))"
   ]
  },
  {
   "cell_type": "code",
   "execution_count": 6,
   "metadata": {},
   "outputs": [],
   "source": [
    "items = soup.find_all('li', class_ = 'item product product-item')"
   ]
  },
  {
   "cell_type": "code",
   "execution_count": 7,
   "metadata": {},
   "outputs": [
    {
     "data": {
      "text/plain": [
       "'रू 75'"
      ]
     },
     "execution_count": 7,
     "metadata": {},
     "output_type": "execute_result"
    }
   ],
   "source": [
    "items[-1].find('span', class_ = 'price').text"
   ]
  },
  {
   "cell_type": "code",
   "execution_count": 31,
   "metadata": {},
   "outputs": [
    {
     "name": "stdout",
     "output_type": "stream",
     "text": [
      "Century Kurmure Time Pass\n",
      "रू 40\n"
     ]
    },
    {
     "data": {
      "text/html": [
       "<img src=\"https://www.sastodeal.com/media/catalog/product/5107/RN-SP-KM-03/3.png?quality=80&bg-color=255,255,255&fit=bounds&height=440&width=440&canvas=440:440\" width=\"200\" height=\"100\"/>"
      ],
      "text/plain": [
       "<IPython.core.display.Image object>"
      ]
     },
     "metadata": {},
     "output_type": "display_data"
    },
    {
     "name": "stdout",
     "output_type": "stream",
     "text": [
      "Century Curry Powder 50gm\n",
      "रू 45\n"
     ]
    },
    {
     "data": {
      "text/html": [
       "<img src=\"https://www.sastodeal.com/media/catalog/product/c/u/curry_powder_1.jpg?quality=80&bg-color=255,255,255&fit=bounds&height=440&width=440&canvas=440:440\" width=\"200\" height=\"100\"/>"
      ],
      "text/plain": [
       "<IPython.core.display.Image object>"
      ]
     },
     "metadata": {},
     "output_type": "display_data"
    },
    {
     "name": "stdout",
     "output_type": "stream",
     "text": [
      "Century Garam Masala 50gm\n",
      "रू 65\n"
     ]
    },
    {
     "data": {
      "text/html": [
       "<img src=\"https://www.sastodeal.com/media/catalog/product/g/a/garam_masala.jpg?quality=80&bg-color=255,255,255&fit=bounds&height=440&width=440&canvas=440:440\" width=\"200\" height=\"100\"/>"
      ],
      "text/plain": [
       "<IPython.core.display.Image object>"
      ]
     },
     "metadata": {},
     "output_type": "display_data"
    },
    {
     "name": "stdout",
     "output_type": "stream",
     "text": [
      "Century Chicken masala 50gm\n",
      "रू 50\n"
     ]
    },
    {
     "data": {
      "text/html": [
       "<img src=\"https://www.sastodeal.com/media/catalog/product/c/h/chiken_masala.jpg?quality=80&bg-color=255,255,255&fit=bounds&height=440&width=440&canvas=440:440\" width=\"200\" height=\"100\"/>"
      ],
      "text/plain": [
       "<IPython.core.display.Image object>"
      ]
     },
     "metadata": {},
     "output_type": "display_data"
    },
    {
     "name": "stdout",
     "output_type": "stream",
     "text": [
      "Century Meat Masala 50gm\n",
      "रू 50\n"
     ]
    },
    {
     "data": {
      "text/html": [
       "<img src=\"https://www.sastodeal.com/media/catalog/product/m/e/meat_masala_1.jpg?quality=80&bg-color=255,255,255&fit=bounds&height=440&width=440&canvas=440:440\" width=\"200\" height=\"100\"/>"
      ],
      "text/plain": [
       "<IPython.core.display.Image object>"
      ]
     },
     "metadata": {},
     "output_type": "display_data"
    },
    {
     "name": "stdout",
     "output_type": "stream",
     "text": [
      "Century Kasoori Methi 25gm\n",
      "रू 50\n"
     ]
    },
    {
     "data": {
      "text/html": [
       "<img src=\"https://www.sastodeal.com/media/catalog/product/4179/SB-CEN-4/4.jpg?quality=80&bg-color=255,255,255&fit=bounds&height=440&width=440&canvas=440:440\" width=\"200\" height=\"100\"/>"
      ],
      "text/plain": [
       "<IPython.core.display.Image object>"
      ]
     },
     "metadata": {},
     "output_type": "display_data"
    },
    {
     "name": "stdout",
     "output_type": "stream",
     "text": [
      "Century Biryani Masala 50gm\n",
      "रू 60\n"
     ]
    },
    {
     "data": {
      "text/html": [
       "<img src=\"https://www.sastodeal.com/media/catalog/product/b/i/biryani.jpg?quality=80&bg-color=255,255,255&fit=bounds&height=440&width=440&canvas=440:440\" width=\"200\" height=\"100\"/>"
      ],
      "text/plain": [
       "<IPython.core.display.Image object>"
      ]
     },
     "metadata": {},
     "output_type": "display_data"
    },
    {
     "name": "stdout",
     "output_type": "stream",
     "text": [
      "Century Penny Chinese Chilly 55gm\n",
      "रू 40\n"
     ]
    },
    {
     "data": {
      "text/html": [
       "<img src=\"https://www.sastodeal.com/media/catalog/product/p/e/penny.jpg?quality=80&bg-color=255,255,255&fit=bounds&height=440&width=440&canvas=440:440\" width=\"200\" height=\"100\"/>"
      ],
      "text/plain": [
       "<IPython.core.display.Image object>"
      ]
     },
     "metadata": {},
     "output_type": "display_data"
    },
    {
     "name": "stdout",
     "output_type": "stream",
     "text": [
      "Century Potato Cracker 50 gm\n",
      "रू 40\n"
     ]
    },
    {
     "data": {
      "text/html": [
       "<img src=\"https://www.sastodeal.com/media/catalog/product/c/e/century_potato.jpg?quality=80&bg-color=255,255,255&fit=bounds&height=440&width=440&canvas=440:440\" width=\"200\" height=\"100\"/>"
      ],
      "text/plain": [
       "<IPython.core.display.Image object>"
      ]
     },
     "metadata": {},
     "output_type": "display_data"
    },
    {
     "name": "stdout",
     "output_type": "stream",
     "text": [
      "Century Corinder Powder 100gm\n",
      "रू 80\n"
     ]
    },
    {
     "data": {
      "text/html": [
       "<img src=\"https://www.sastodeal.com/media/catalog/product/c/o/cornaider.jpg?quality=80&bg-color=255,255,255&fit=bounds&height=440&width=440&canvas=440:440\" width=\"200\" height=\"100\"/>"
      ],
      "text/plain": [
       "<IPython.core.display.Image object>"
      ]
     },
     "metadata": {},
     "output_type": "display_data"
    },
    {
     "name": "stdout",
     "output_type": "stream",
     "text": [
      "Century Turmeric Powder 100gm\n",
      "रू 45\n"
     ]
    },
    {
     "data": {
      "text/html": [
       "<img src=\"https://www.sastodeal.com/media/catalog/product/t/u/turmeric_powder.jpg?quality=80&bg-color=255,255,255&fit=bounds&height=440&width=440&canvas=440:440\" width=\"200\" height=\"100\"/>"
      ],
      "text/plain": [
       "<IPython.core.display.Image object>"
      ]
     },
     "metadata": {},
     "output_type": "display_data"
    },
    {
     "name": "stdout",
     "output_type": "stream",
     "text": [
      "Century Cumine 100gm\n",
      "रू 75\n"
     ]
    },
    {
     "data": {
      "text/html": [
       "<img src=\"https://www.sastodeal.com/media/catalog/product/c/u/cumin_powder.jpg?quality=80&bg-color=255,255,255&fit=bounds&height=440&width=440&canvas=440:440\" width=\"200\" height=\"100\"/>"
      ],
      "text/plain": [
       "<IPython.core.display.Image object>"
      ]
     },
     "metadata": {},
     "output_type": "display_data"
    }
   ],
   "source": [
    "for item in range(len(items)):\n",
    "    print(items[item].strong.text.strip())\n",
    "    print(items[item].find('span', class_ = 'price').text)\n",
    "    display(Image(url = images[item], width = 200, height = 100))"
   ]
  },
  {
   "cell_type": "code",
   "execution_count": null,
   "metadata": {},
   "outputs": [],
   "source": []
  }
 ],
 "metadata": {
  "kernelspec": {
   "display_name": "Python 3.7.4 64-bit ('base': conda)",
   "language": "python",
   "name": "python37464bitbaseconda1eb60c76e02b4ba9a2a4c9ec9b1fa267"
  },
  "language_info": {
   "codemirror_mode": {
    "name": "ipython",
    "version": 3
   },
   "file_extension": ".py",
   "mimetype": "text/x-python",
   "name": "python",
   "nbconvert_exporter": "python",
   "pygments_lexer": "ipython3",
   "version": "3.7.4"
  }
 },
 "nbformat": 4,
 "nbformat_minor": 4
}
